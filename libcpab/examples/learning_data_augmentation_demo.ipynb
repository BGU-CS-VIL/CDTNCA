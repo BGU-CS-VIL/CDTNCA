{
 "cells": [
  {
   "cell_type": "markdown",
   "metadata": {},
   "source": [
    "# Learned Data Augmentation\n",
    "\n",
    "This tutorial gives an example for an application of the CPAB library.\n",
    "This tutorial relies on different tensorflow functionalities, thus to run this demo, you need tensorflow installed.\n",
    "\n",
    "Many machine learning algorithms are crucially dependent on the provided data. In many applications we face a massive shortcoming of labeled data. This problem is tackled by *data augmentation*, i.e. new data points are synthetically generated from old ones. Classically, people have used hand-crafted augmentation schemes to create new examples based on a priori assumptions about the data. For images this often means rotating, scaling or translating the images by small random values. \n",
    "\n",
    "These invariance assumptions, however, might or might not be justified and we potentially introduce deceptive variations. Following Hauberg et al. [1] we here look at the potential of *learned* data augmentation, i.e. creating new realistic data based on the variation in the known examples. In this tutorial which is based on Tobias Slott Jensen's master thesis, the idea is applied to time series. \n",
    "\n",
    "The learned data augmentation pipeline consists of three major parts. In order to understand the variation within the training data first step is to align (i.e. register) the images to each other. We use a diffeomorphic registration framework based on integrating stationary piecewise affine vector fields. We use the CPAB library by Nicki Skafte to do this. [citation?]\n",
    "After registering the training images we build a statistical model over the transformations which describes the variation within the aligned image pairs. We then sample new transformations and apply them to existing images to create new data points. Lastly, the augmented datasets are used to train a one-nearest-neighbor classifier, a very simple machine learning model. We want to investigate how data augmentation influences the classification performance."
   ]
  },
  {
   "cell_type": "code",
   "execution_count": 3,
   "metadata": {},
   "outputs": [
    {
     "name": "stdout",
     "output_type": "stream",
     "text": [
      "This cell sets up the toggle functionality. I use this to hide uninteresting technical code in the following.\n",
      "You can always untoggle it by clicking on the show/hide link.\n"
     ]
    },
    {
     "data": {
      "text/html": [
       "\n",
       "        <script>\n",
       "            function code_toggle_4058186852557945020() {\n",
       "                $('div.cell.code_cell.rendered.selected').find('div.input').toggle();\n",
       "            }\n",
       "\n",
       "            \n",
       "        </script>\n",
       "\n",
       "        <a href=\"javascript:code_toggle_4058186852557945020()\">Show/hide cell</a>\n",
       "    "
      ],
      "text/plain": [
       "<IPython.core.display.HTML object>"
      ]
     },
     "execution_count": 3,
     "metadata": {},
     "output_type": "execute_result"
    }
   ],
   "source": [
    "import random\n",
    "from IPython.display import HTML\n",
    "\n",
    "\n",
    "def hide_toggle(for_next=False):\n",
    "    this_cell = \"\"\"$('div.cell.code_cell.rendered.selected')\"\"\"\n",
    "    next_cell = this_cell + '.next()'\n",
    "\n",
    "    toggle_text = 'Show/hide cell'  # text shown on toggle link\n",
    "    target_cell = this_cell  # target cell to control with toggle\n",
    "    js_hide_current = ''  # bit of JS to permanently hide code in current cell (only when toggling next cell)\n",
    "\n",
    "    if for_next:\n",
    "        target_cell = next_cell\n",
    "        toggle_text += ' next cell'\n",
    "        js_hide_current = this_cell + '.find(\"div.input\").hide();'\n",
    "\n",
    "    js_f_name = 'code_toggle_{}'.format(str(random.randint(1,2**64)))\n",
    "\n",
    "    html = \"\"\"\n",
    "        <script>\n",
    "            function {f_name}() {{\n",
    "                {cell_selector}.find('div.input').toggle();\n",
    "            }}\n",
    "\n",
    "            {js_hide_current}\n",
    "        </script>\n",
    "\n",
    "        <a href=\"javascript:{f_name}()\">{toggle_text}</a>\n",
    "    \"\"\".format(\n",
    "        f_name=js_f_name,\n",
    "        cell_selector=target_cell,\n",
    "        js_hide_current=js_hide_current, \n",
    "        toggle_text=toggle_text\n",
    "    )\n",
    "\n",
    "    return HTML(html)\n",
    "\n",
    "print('''This cell sets up the toggle functionality. I use this to hide uninteresting technical code in the following.\n",
    "You can always untoggle it by clicking on the show/hide link.''')\n",
    "\n",
    "hide_toggle()"
   ]
  },
  {
   "cell_type": "code",
   "execution_count": 11,
   "metadata": {},
   "outputs": [
    {
     "name": "stdout",
     "output_type": "stream",
     "text": [
      "The autoreload extension is already loaded. To reload it, use:\n",
      "  %reload_ext autoreload\n",
      "\n",
      " This cell contains the neccessary imports.\n"
     ]
    },
    {
     "data": {
      "text/html": [
       "\n",
       "        <script>\n",
       "            function code_toggle_13147637351164721588() {\n",
       "                $('div.cell.code_cell.rendered.selected').find('div.input').toggle();\n",
       "            }\n",
       "\n",
       "            \n",
       "        </script>\n",
       "\n",
       "        <a href=\"javascript:code_toggle_13147637351164721588()\">Show/hide cell</a>\n",
       "    "
      ],
      "text/plain": [
       "<IPython.core.display.HTML object>"
      ]
     },
     "execution_count": 11,
     "metadata": {},
     "output_type": "execute_result"
    }
   ],
   "source": [
    "import numpy as np\n",
    "import pickle\n",
    "import tensorflow as tf\n",
    "from libcpab import Cpab, CpabAligner\n",
    "import matplotlib.pyplot as plt\n",
    "import matplotlib.animation as animation\n",
    "import time\n",
    "from sklearn.metrics import accuracy_score\n",
    "from sklearn.decomposition import PCA\n",
    "from matplotlib.animation import FFMpegWriter\n",
    "from sklearn.neighbors import KNeighborsClassifier\n",
    "import math\n",
    "\n",
    "from tensorflow.keras.models import Sequential\n",
    "from tensorflow.keras.layers import Activation, Dense, GlobalAveragePooling1D\n",
    "from tensorflow.keras.layers import Conv1D, BatchNormalization\n",
    "from tensorflow.keras.optimizers import Adam\n",
    "\n",
    "%matplotlib inline\n",
    "%load_ext autoreload\n",
    "%autoreload 2\n",
    "\n",
    "print('\\n This cell contains the neccessary imports.')\n",
    "\n",
    "hide_toggle()"
   ]
  },
  {
   "cell_type": "code",
   "execution_count": 19,
   "metadata": {},
   "outputs": [],
   "source": [
    "device = 'gpu'\n",
    "with open('../data/BirdChicken', 'rb') as file:\n",
    "    data = pickle.load(file)"
   ]
  },
  {
   "cell_type": "markdown",
   "metadata": {},
   "source": [
    "# 1. Aligning the time series \n",
    "We start out by aligning the time series of the same class to each other. This is done by setting up a CPAB-transformer object T and optimizing its parameters $\\theta$ such that it transforms one time series $s_1$ into another $s_2$, i.e. such that \n",
    "$$ \\theta = argmin_{\\alpha} \\| T^\\alpha (s_1) - s_2 \\|^2  $$"
   ]
  },
  {
   "cell_type": "code",
   "execution_count": 22,
   "metadata": {},
   "outputs": [
    {
     "name": "stdout",
     "output_type": "stream",
     "text": [
      "This cell contains all the functions we need for alignment.\n"
     ]
    },
    {
     "data": {
      "text/html": [
       "\n",
       "        <script>\n",
       "            function code_toggle_16116384488658845290() {\n",
       "                $('div.cell.code_cell.rendered.selected').find('div.input').toggle();\n",
       "            }\n",
       "\n",
       "            \n",
       "        </script>\n",
       "\n",
       "        <a href=\"javascript:code_toggle_16116384488658845290()\">Show/hide cell</a>\n",
       "    "
      ],
      "text/plain": [
       "<IPython.core.display.HTML object>"
      ]
     },
     "execution_count": 22,
     "metadata": {},
     "output_type": "execute_result"
    }
   ],
   "source": [
    "def make_label_lookup(y_train):\n",
    "    # make a dictionary of lists that, for each class,\n",
    "    # contains indices of datapoints from that class in the training set\n",
    "    classes = np.unique(y_train)\n",
    "    class_indices = {}\n",
    "    for label in classes:\n",
    "        class_indices[label] = np.where(y_train == label)[0]\n",
    "    return class_indices\n",
    "\n",
    "def make_pairs_list(X_train, y_train):\n",
    "    # get pairs of indices to be aligned\n",
    "    class_lookup = make_label_lookup(y_train)\n",
    "    classes = np.unique(y_train)\n",
    "    transformation_pairs = {}\n",
    "    for label in classes:\n",
    "        datapoints_class = class_lookup[label]\n",
    "        transformation_pairs_class = [(ts1, ts2) for ts1 in datapoints_class for ts2 in datapoints_class if ts2!=ts1]\n",
    "        transformation_pairs[label] = np.array(transformation_pairs_class)\n",
    "    return transformation_pairs\n",
    "\n",
    "def align(X_train, transformation_pairs):\n",
    "    # Optimize theta by aligning time series\n",
    "    all_transformations = {}\n",
    "    \n",
    "    # Construct transformer and aligner\n",
    "    T = Cpab(tess_size=[10], backend='tensorflow', device=device, zero_boundary=True)\n",
    "    A = CpabAligner(T)\n",
    "    \n",
    "    # RUN OPTIMIZATION\n",
    "    labels = transformation_pairs.keys()\n",
    "    for label in labels:\n",
    "        transformations_here = np.empty((0, 9))\n",
    "        print('ALIGNING CLASS:', label)\n",
    "        t_pairs = transformation_pairs[label]\n",
    "        losses_before = []\n",
    "        losses_after = []\n",
    "        for (n,m) in t_pairs:\n",
    "            x_n = X_train[n, :]\n",
    "            x_n = np.expand_dims(np.expand_dims(x_n, 0), 2).astype(np.float32)\n",
    "            x_n = T.backend.to(x_n, device=device)\n",
    "            x_m = X_train[m, :]\n",
    "            x_m = np.expand_dims(np.expand_dims(x_m, 0), 2).astype(np.float32)\n",
    "            x_m = T.backend.to(x_m, device=device)\n",
    "            print('-----' + str(n) + ',' + str(m) + '-----')\n",
    "            \n",
    "            theta_est = A.alignment_by_gradient(x_n, x_m, maxiter=200, lr=1e-3)\n",
    "            transformations_here = np.append(transformations_here, theta_est, axis=0)\n",
    "\n",
    "        all_transformations[label] = transformations_here        \n",
    "    return all_transformations, losses_before, losses_after\n",
    "\n",
    "print('''This cell contains all the functions we need for alignment.''')\n",
    "hide_toggle()"
   ]
  },
  {
   "cell_type": "code",
   "execution_count": 23,
   "metadata": {
    "scrolled": true
   },
   "outputs": [
    {
     "name": "stderr",
     "output_type": "stream",
     "text": [
      "Alignment of samples:   4%|▍         | 8/200 [00:00<00:05, 34.70iters/s, loss=14.3]"
     ]
    },
    {
     "name": "stdout",
     "output_type": "stream",
     "text": [
      "ALIGNING CLASS: 0\n",
      "-----0,2-----\n"
     ]
    },
    {
     "name": "stderr",
     "output_type": "stream",
     "text": [
      "Alignment of samples: 100%|██████████| 200/200 [00:04<00:00, 48.85iters/s, loss=10.9]\n",
      "Alignment of samples:   4%|▍         | 9/200 [00:00<00:04, 45.77iters/s, loss=30.3]"
     ]
    },
    {
     "name": "stdout",
     "output_type": "stream",
     "text": [
      "-----0,6-----\n"
     ]
    },
    {
     "name": "stderr",
     "output_type": "stream",
     "text": [
      "Alignment of samples: 100%|██████████| 200/200 [00:04<00:00, 48.45iters/s, loss=36.7]\n",
      "Alignment of samples:   4%|▍         | 9/200 [00:00<00:04, 45.13iters/s, loss=16.8]"
     ]
    },
    {
     "name": "stdout",
     "output_type": "stream",
     "text": [
      "-----0,7-----\n"
     ]
    },
    {
     "name": "stderr",
     "output_type": "stream",
     "text": [
      "Alignment of samples: 100%|██████████| 200/200 [00:04<00:00, 48.85iters/s, loss=18.2]\n",
      "Alignment of samples:   4%|▍         | 9/200 [00:00<00:04, 45.66iters/s, loss=23.8]"
     ]
    },
    {
     "name": "stdout",
     "output_type": "stream",
     "text": [
      "-----0,9-----\n"
     ]
    },
    {
     "name": "stderr",
     "output_type": "stream",
     "text": [
      "Alignment of samples: 100%|██████████| 200/200 [00:04<00:00, 48.66iters/s, loss=32.2]\n",
      "Alignment of samples:   4%|▍         | 9/200 [00:00<00:04, 46.23iters/s, loss=18.7]"
     ]
    },
    {
     "name": "stdout",
     "output_type": "stream",
     "text": [
      "-----0,11-----\n"
     ]
    },
    {
     "name": "stderr",
     "output_type": "stream",
     "text": [
      "Alignment of samples: 100%|██████████| 200/200 [00:04<00:00, 47.62iters/s, loss=17.7]\n",
      "Alignment of samples:   4%|▍         | 9/200 [00:00<00:04, 42.16iters/s, loss=11.8]"
     ]
    },
    {
     "name": "stdout",
     "output_type": "stream",
     "text": [
      "-----0,14-----\n"
     ]
    },
    {
     "name": "stderr",
     "output_type": "stream",
     "text": [
      "Alignment of samples: 100%|██████████| 200/200 [00:04<00:00, 47.75iters/s, loss=nan]\n",
      "Alignment of samples:   4%|▍         | 9/200 [00:00<00:04, 45.76iters/s, loss=14.9]"
     ]
    },
    {
     "name": "stdout",
     "output_type": "stream",
     "text": [
      "-----2,0-----\n"
     ]
    },
    {
     "name": "stderr",
     "output_type": "stream",
     "text": [
      "Alignment of samples: 100%|██████████| 200/200 [00:04<00:00, 48.77iters/s, loss=16]  \n",
      "Alignment of samples:   4%|▍         | 8/200 [00:00<00:04, 45.22iters/s, loss=33.6]"
     ]
    },
    {
     "name": "stdout",
     "output_type": "stream",
     "text": [
      "-----2,6-----\n"
     ]
    },
    {
     "name": "stderr",
     "output_type": "stream",
     "text": [
      "Alignment of samples: 100%|██████████| 200/200 [00:04<00:00, 49.41iters/s, loss=32.3]\n",
      "Alignment of samples:   4%|▍         | 9/200 [00:00<00:04, 45.29iters/s, loss=7.08]"
     ]
    },
    {
     "name": "stdout",
     "output_type": "stream",
     "text": [
      "-----2,7-----\n"
     ]
    },
    {
     "name": "stderr",
     "output_type": "stream",
     "text": [
      "Alignment of samples: 100%|██████████| 200/200 [00:04<00:00, 49.30iters/s, loss=16.4]\n",
      "Alignment of samples:   4%|▍         | 9/200 [00:00<00:04, 46.48iters/s, loss=19.5]"
     ]
    },
    {
     "name": "stdout",
     "output_type": "stream",
     "text": [
      "-----2,9-----\n"
     ]
    },
    {
     "name": "stderr",
     "output_type": "stream",
     "text": [
      "Alignment of samples: 100%|██████████| 200/200 [00:04<00:00, 49.05iters/s, loss=21.7]\n",
      "Alignment of samples:   4%|▍         | 8/200 [00:00<00:04, 43.02iters/s, loss=8.73]"
     ]
    },
    {
     "name": "stdout",
     "output_type": "stream",
     "text": [
      "-----2,11-----\n"
     ]
    },
    {
     "name": "stderr",
     "output_type": "stream",
     "text": [
      "Alignment of samples: 100%|██████████| 200/200 [00:04<00:00, 48.69iters/s, loss=15.1]\n",
      "Alignment of samples:   4%|▍         | 9/200 [00:00<00:04, 46.20iters/s, loss=7.67]"
     ]
    },
    {
     "name": "stdout",
     "output_type": "stream",
     "text": [
      "-----2,14-----\n"
     ]
    },
    {
     "name": "stderr",
     "output_type": "stream",
     "text": [
      "Alignment of samples: 100%|██████████| 200/200 [00:04<00:00, 49.07iters/s, loss=15.3]\n",
      "Alignment of samples:   4%|▍         | 8/200 [00:00<00:04, 41.59iters/s, loss=30.6]"
     ]
    },
    {
     "name": "stdout",
     "output_type": "stream",
     "text": [
      "-----6,0-----\n"
     ]
    },
    {
     "name": "stderr",
     "output_type": "stream",
     "text": [
      "Alignment of samples: 100%|██████████| 200/200 [00:04<00:00, 47.85iters/s, loss=29.4]\n",
      "Alignment of samples:   4%|▍         | 8/200 [00:00<00:04, 39.71iters/s, loss=33.9]"
     ]
    },
    {
     "name": "stdout",
     "output_type": "stream",
     "text": [
      "-----6,2-----\n"
     ]
    },
    {
     "name": "stderr",
     "output_type": "stream",
     "text": [
      "Alignment of samples: 100%|██████████| 200/200 [00:04<00:00, 47.47iters/s, loss=29.1]\n",
      "Alignment of samples:   4%|▍         | 9/200 [00:00<00:04, 46.19iters/s, loss=34]  "
     ]
    },
    {
     "name": "stdout",
     "output_type": "stream",
     "text": [
      "-----6,7-----\n"
     ]
    },
    {
     "name": "stderr",
     "output_type": "stream",
     "text": [
      "Alignment of samples: 100%|██████████| 200/200 [00:04<00:00, 47.90iters/s, loss=27.2]\n",
      "Alignment of samples:   4%|▍         | 9/200 [00:00<00:04, 44.98iters/s, loss=24]  "
     ]
    },
    {
     "name": "stdout",
     "output_type": "stream",
     "text": [
      "-----6,9-----\n"
     ]
    },
    {
     "name": "stderr",
     "output_type": "stream",
     "text": [
      "Alignment of samples: 100%|██████████| 200/200 [00:04<00:00, 46.65iters/s, loss=16.1]\n",
      "Alignment of samples:   4%|▍         | 8/200 [00:00<00:04, 43.42iters/s, loss=36.9]"
     ]
    },
    {
     "name": "stdout",
     "output_type": "stream",
     "text": [
      "-----6,11-----\n"
     ]
    },
    {
     "name": "stderr",
     "output_type": "stream",
     "text": [
      "Alignment of samples: 100%|██████████| 200/200 [00:04<00:00, 47.91iters/s, loss=29.4]\n",
      "Alignment of samples:   4%|▍         | 8/200 [00:00<00:04, 45.47iters/s, loss=34.3]"
     ]
    },
    {
     "name": "stdout",
     "output_type": "stream",
     "text": [
      "-----6,14-----\n"
     ]
    },
    {
     "name": "stderr",
     "output_type": "stream",
     "text": [
      "Alignment of samples: 100%|██████████| 200/200 [00:04<00:00, 46.23iters/s, loss=26.3]\n",
      "Alignment of samples:   4%|▍         | 9/200 [00:00<00:04, 45.15iters/s, loss=16.5]"
     ]
    },
    {
     "name": "stdout",
     "output_type": "stream",
     "text": [
      "-----7,0-----\n"
     ]
    },
    {
     "name": "stderr",
     "output_type": "stream",
     "text": [
      "Alignment of samples: 100%|██████████| 200/200 [00:04<00:00, 47.32iters/s, loss=21.4]\n",
      "Alignment of samples:   4%|▍         | 9/200 [00:00<00:04, 46.02iters/s, loss=7.25]"
     ]
    },
    {
     "name": "stdout",
     "output_type": "stream",
     "text": [
      "-----7,2-----\n"
     ]
    },
    {
     "name": "stderr",
     "output_type": "stream",
     "text": [
      "Alignment of samples: 100%|██████████| 200/200 [00:04<00:00, 44.30iters/s, loss=23.3]\n",
      "Alignment of samples:   4%|▍         | 9/200 [00:00<00:04, 46.72iters/s, loss=33]  "
     ]
    },
    {
     "name": "stdout",
     "output_type": "stream",
     "text": [
      "-----7,6-----\n"
     ]
    },
    {
     "name": "stderr",
     "output_type": "stream",
     "text": [
      "Alignment of samples: 100%|██████████| 200/200 [00:04<00:00, 47.69iters/s, loss=30.1]\n",
      "Alignment of samples:   4%|▍         | 9/200 [00:00<00:04, 45.52iters/s, loss=18.4]"
     ]
    },
    {
     "name": "stdout",
     "output_type": "stream",
     "text": [
      "-----7,9-----\n"
     ]
    },
    {
     "name": "stderr",
     "output_type": "stream",
     "text": [
      "Alignment of samples: 100%|██████████| 200/200 [00:04<00:00, 48.10iters/s, loss=20.9]\n",
      "Alignment of samples:   4%|▍         | 8/200 [00:00<00:04, 43.11iters/s, loss=6.07]"
     ]
    },
    {
     "name": "stdout",
     "output_type": "stream",
     "text": [
      "-----7,11-----\n"
     ]
    },
    {
     "name": "stderr",
     "output_type": "stream",
     "text": [
      "Alignment of samples: 100%|██████████| 200/200 [00:04<00:00, 48.77iters/s, loss=7.44]\n",
      "Alignment of samples:   4%|▍         | 9/200 [00:00<00:04, 45.31iters/s, loss=7.4] "
     ]
    },
    {
     "name": "stdout",
     "output_type": "stream",
     "text": [
      "-----7,14-----\n"
     ]
    },
    {
     "name": "stderr",
     "output_type": "stream",
     "text": [
      "Alignment of samples: 100%|██████████| 200/200 [00:04<00:00, 49.37iters/s, loss=15.7]\n",
      "Alignment of samples:   4%|▍         | 9/200 [00:00<00:04, 44.19iters/s, loss=23.7]"
     ]
    },
    {
     "name": "stdout",
     "output_type": "stream",
     "text": [
      "-----9,0-----\n"
     ]
    },
    {
     "name": "stderr",
     "output_type": "stream",
     "text": [
      "Alignment of samples: 100%|██████████| 200/200 [00:04<00:00, 49.53iters/s, loss=33.7]\n",
      "Alignment of samples:   4%|▍         | 9/200 [00:00<00:04, 45.94iters/s, loss=19.4]"
     ]
    },
    {
     "name": "stdout",
     "output_type": "stream",
     "text": [
      "-----9,2-----\n"
     ]
    },
    {
     "name": "stderr",
     "output_type": "stream",
     "text": [
      "Alignment of samples: 100%|██████████| 200/200 [00:03<00:00, 50.08iters/s, loss=30.1]\n",
      "Alignment of samples:   4%|▍         | 9/200 [00:00<00:04, 46.40iters/s, loss=24.4]"
     ]
    },
    {
     "name": "stdout",
     "output_type": "stream",
     "text": [
      "-----9,6-----\n"
     ]
    },
    {
     "name": "stderr",
     "output_type": "stream",
     "text": [
      "Alignment of samples: 100%|██████████| 200/200 [00:04<00:00, 48.46iters/s, loss=nan] \n",
      "Alignment of samples:   4%|▍         | 9/200 [00:00<00:04, 42.91iters/s, loss=18.3]"
     ]
    },
    {
     "name": "stdout",
     "output_type": "stream",
     "text": [
      "-----9,7-----\n"
     ]
    },
    {
     "name": "stderr",
     "output_type": "stream",
     "text": [
      "Alignment of samples: 100%|██████████| 200/200 [00:04<00:00, 46.49iters/s, loss=29.4]\n",
      "Alignment of samples:   4%|▍         | 8/200 [00:00<00:04, 42.60iters/s, loss=22.1]"
     ]
    },
    {
     "name": "stdout",
     "output_type": "stream",
     "text": [
      "-----9,11-----\n"
     ]
    },
    {
     "name": "stderr",
     "output_type": "stream",
     "text": [
      "Alignment of samples: 100%|██████████| 200/200 [00:04<00:00, 49.59iters/s, loss=33.7]\n",
      "Alignment of samples:   4%|▍         | 8/200 [00:00<00:04, 45.04iters/s, loss=22.2]"
     ]
    },
    {
     "name": "stdout",
     "output_type": "stream",
     "text": [
      "-----9,14-----\n"
     ]
    },
    {
     "name": "stderr",
     "output_type": "stream",
     "text": [
      "Alignment of samples: 100%|██████████| 200/200 [00:04<00:00, 47.87iters/s, loss=32.1]\n",
      "Alignment of samples:   4%|▍         | 8/200 [00:00<00:04, 43.35iters/s, loss=18.4]"
     ]
    },
    {
     "name": "stdout",
     "output_type": "stream",
     "text": [
      "-----11,0-----\n"
     ]
    },
    {
     "name": "stderr",
     "output_type": "stream",
     "text": [
      "Alignment of samples: 100%|██████████| 200/200 [00:04<00:00, 47.48iters/s, loss=18.4]\n",
      "Alignment of samples:   4%|▍         | 9/200 [00:00<00:04, 42.54iters/s, loss=8.44]"
     ]
    },
    {
     "name": "stdout",
     "output_type": "stream",
     "text": [
      "-----11,2-----\n"
     ]
    },
    {
     "name": "stderr",
     "output_type": "stream",
     "text": [
      "Alignment of samples: 100%|██████████| 200/200 [00:04<00:00, 49.13iters/s, loss=11.2]\n",
      "Alignment of samples:   4%|▍         | 8/200 [00:00<00:04, 44.44iters/s, loss=36.6]"
     ]
    },
    {
     "name": "stdout",
     "output_type": "stream",
     "text": [
      "-----11,6-----\n"
     ]
    },
    {
     "name": "stderr",
     "output_type": "stream",
     "text": [
      "Alignment of samples: 100%|██████████| 200/200 [00:04<00:00, 47.47iters/s, loss=28.6]\n",
      "Alignment of samples:   4%|▍         | 9/200 [00:00<00:04, 46.39iters/s, loss=5.47]"
     ]
    },
    {
     "name": "stdout",
     "output_type": "stream",
     "text": [
      "-----11,7-----\n"
     ]
    },
    {
     "name": "stderr",
     "output_type": "stream",
     "text": [
      "Alignment of samples: 100%|██████████| 200/200 [00:04<00:00, 46.34iters/s, loss=10.4]\n",
      "Alignment of samples:   4%|▍         | 8/200 [00:00<00:04, 39.87iters/s, loss=21.7]"
     ]
    },
    {
     "name": "stdout",
     "output_type": "stream",
     "text": [
      "-----11,9-----\n"
     ]
    },
    {
     "name": "stderr",
     "output_type": "stream",
     "text": [
      "Alignment of samples: 100%|██████████| 200/200 [00:04<00:00, 48.32iters/s, loss=14.6]\n",
      "Alignment of samples:   4%|▍         | 8/200 [00:00<00:04, 42.79iters/s, loss=8.23]"
     ]
    },
    {
     "name": "stdout",
     "output_type": "stream",
     "text": [
      "-----11,14-----\n"
     ]
    },
    {
     "name": "stderr",
     "output_type": "stream",
     "text": [
      "Alignment of samples: 100%|██████████| 200/200 [00:04<00:00, 47.48iters/s, loss=17.8]\n",
      "Alignment of samples:   4%|▍         | 9/200 [00:00<00:04, 45.05iters/s, loss=11.4]"
     ]
    },
    {
     "name": "stdout",
     "output_type": "stream",
     "text": [
      "-----14,0-----\n"
     ]
    },
    {
     "name": "stderr",
     "output_type": "stream",
     "text": [
      "Alignment of samples:  45%|████▌     | 90/200 [00:01<00:02, 49.24iters/s, loss=7.67]"
     ]
    },
    {
     "ename": "KeyboardInterrupt",
     "evalue": "",
     "output_type": "error",
     "traceback": [
      "\u001b[0;31m---------------------------------------------------------------------------\u001b[0m",
      "\u001b[0;31mKeyboardInterrupt\u001b[0m                         Traceback (most recent call last)",
      "\u001b[0;32m<ipython-input-23-df921b0e1e0b>\u001b[0m in \u001b[0;36m<module>\u001b[0;34m\u001b[0m\n\u001b[1;32m      2\u001b[0m \u001b[0mpairs\u001b[0m \u001b[0;34m=\u001b[0m \u001b[0mmake_pairs_list\u001b[0m\u001b[0;34m(\u001b[0m\u001b[0mdata\u001b[0m\u001b[0;34m[\u001b[0m\u001b[0;34m'X_train'\u001b[0m\u001b[0;34m]\u001b[0m\u001b[0;34m,\u001b[0m \u001b[0mdata\u001b[0m\u001b[0;34m[\u001b[0m\u001b[0;34m'y_train'\u001b[0m\u001b[0;34m]\u001b[0m\u001b[0;34m)\u001b[0m\u001b[0;34m\u001b[0m\u001b[0;34m\u001b[0m\u001b[0m\n\u001b[1;32m      3\u001b[0m \u001b[0;31m# Then align those by optimization using CPAB.\u001b[0m\u001b[0;34m\u001b[0m\u001b[0;34m\u001b[0m\u001b[0;34m\u001b[0m\u001b[0m\n\u001b[0;32m----> 4\u001b[0;31m \u001b[0mtransformations\u001b[0m\u001b[0;34m,\u001b[0m \u001b[0mlosses_before\u001b[0m\u001b[0;34m,\u001b[0m \u001b[0mlosses_after\u001b[0m \u001b[0;34m=\u001b[0m \u001b[0malign\u001b[0m\u001b[0;34m(\u001b[0m\u001b[0mdata\u001b[0m\u001b[0;34m[\u001b[0m\u001b[0;34m'X_train'\u001b[0m\u001b[0;34m]\u001b[0m\u001b[0;34m,\u001b[0m \u001b[0mpairs\u001b[0m\u001b[0;34m)\u001b[0m\u001b[0;34m\u001b[0m\u001b[0;34m\u001b[0m\u001b[0m\n\u001b[0m",
      "\u001b[0;32m<ipython-input-22-f6ea40a96323>\u001b[0m in \u001b[0;36malign\u001b[0;34m(X_train, transformation_pairs)\u001b[0m\n\u001b[1;32m     44\u001b[0m             \u001b[0mprint\u001b[0m\u001b[0;34m(\u001b[0m\u001b[0;34m'-----'\u001b[0m \u001b[0;34m+\u001b[0m \u001b[0mstr\u001b[0m\u001b[0;34m(\u001b[0m\u001b[0mn\u001b[0m\u001b[0;34m)\u001b[0m \u001b[0;34m+\u001b[0m \u001b[0;34m','\u001b[0m \u001b[0;34m+\u001b[0m \u001b[0mstr\u001b[0m\u001b[0;34m(\u001b[0m\u001b[0mm\u001b[0m\u001b[0;34m)\u001b[0m \u001b[0;34m+\u001b[0m \u001b[0;34m'-----'\u001b[0m\u001b[0;34m)\u001b[0m\u001b[0;34m\u001b[0m\u001b[0;34m\u001b[0m\u001b[0m\n\u001b[1;32m     45\u001b[0m \u001b[0;34m\u001b[0m\u001b[0m\n\u001b[0;32m---> 46\u001b[0;31m             \u001b[0mtheta_est\u001b[0m \u001b[0;34m=\u001b[0m \u001b[0mA\u001b[0m\u001b[0;34m.\u001b[0m\u001b[0malignment_by_gradient\u001b[0m\u001b[0;34m(\u001b[0m\u001b[0mx_n\u001b[0m\u001b[0;34m,\u001b[0m \u001b[0mx_m\u001b[0m\u001b[0;34m,\u001b[0m \u001b[0mmaxiter\u001b[0m\u001b[0;34m=\u001b[0m\u001b[0;36m200\u001b[0m\u001b[0;34m,\u001b[0m \u001b[0mlr\u001b[0m\u001b[0;34m=\u001b[0m\u001b[0;36m1e-2\u001b[0m\u001b[0;34m)\u001b[0m\u001b[0;34m\u001b[0m\u001b[0;34m\u001b[0m\u001b[0m\n\u001b[0m\u001b[1;32m     47\u001b[0m             \u001b[0mtransformations_here\u001b[0m \u001b[0;34m=\u001b[0m \u001b[0mnp\u001b[0m\u001b[0;34m.\u001b[0m\u001b[0mappend\u001b[0m\u001b[0;34m(\u001b[0m\u001b[0mtransformations_here\u001b[0m\u001b[0;34m,\u001b[0m \u001b[0mtheta_est\u001b[0m\u001b[0;34m,\u001b[0m \u001b[0maxis\u001b[0m\u001b[0;34m=\u001b[0m\u001b[0;36m0\u001b[0m\u001b[0;34m)\u001b[0m\u001b[0;34m\u001b[0m\u001b[0;34m\u001b[0m\u001b[0m\n\u001b[1;32m     48\u001b[0m \u001b[0;34m\u001b[0m\u001b[0m\n",
      "\u001b[0;32m~/Documents/libcpab/libcpab/alignment.py\u001b[0m in \u001b[0;36malignment_by_gradient\u001b[0;34m(self, x1, x2, maxiter, lr)\u001b[0m\n\u001b[1;32m     95\u001b[0m             \u001b[0;32mfor\u001b[0m \u001b[0mi\u001b[0m \u001b[0;32min\u001b[0m \u001b[0mrange\u001b[0m\u001b[0;34m(\u001b[0m\u001b[0mmaxiter\u001b[0m\u001b[0;34m)\u001b[0m\u001b[0;34m:\u001b[0m\u001b[0;34m\u001b[0m\u001b[0;34m\u001b[0m\u001b[0m\n\u001b[1;32m     96\u001b[0m                 \u001b[0;32mwith\u001b[0m \u001b[0mtf\u001b[0m\u001b[0;34m.\u001b[0m\u001b[0mGradientTape\u001b[0m\u001b[0;34m(\u001b[0m\u001b[0;34m)\u001b[0m \u001b[0;32mas\u001b[0m \u001b[0mtape\u001b[0m\u001b[0;34m:\u001b[0m\u001b[0;34m\u001b[0m\u001b[0;34m\u001b[0m\u001b[0m\n\u001b[0;32m---> 97\u001b[0;31m                     \u001b[0mx1_trans\u001b[0m \u001b[0;34m=\u001b[0m \u001b[0mself\u001b[0m\u001b[0;34m.\u001b[0m\u001b[0mT\u001b[0m\u001b[0;34m.\u001b[0m\u001b[0mtransform_data\u001b[0m\u001b[0;34m(\u001b[0m\u001b[0mx1\u001b[0m\u001b[0;34m,\u001b[0m \u001b[0mtheta\u001b[0m\u001b[0;34m,\u001b[0m \u001b[0moutsize\u001b[0m\u001b[0;34m=\u001b[0m\u001b[0moutsize\u001b[0m\u001b[0;34m)\u001b[0m\u001b[0;34m\u001b[0m\u001b[0;34m\u001b[0m\u001b[0m\n\u001b[0m\u001b[1;32m     98\u001b[0m                     \u001b[0mloss\u001b[0m \u001b[0;34m=\u001b[0m \u001b[0mself\u001b[0m\u001b[0;34m.\u001b[0m\u001b[0mbackend\u001b[0m\u001b[0;34m.\u001b[0m\u001b[0mnorm\u001b[0m\u001b[0;34m(\u001b[0m\u001b[0mx1_trans\u001b[0m \u001b[0;34m-\u001b[0m \u001b[0mx2\u001b[0m\u001b[0;34m)\u001b[0m\u001b[0;34m\u001b[0m\u001b[0;34m\u001b[0m\u001b[0m\n\u001b[1;32m     99\u001b[0m                     \u001b[0mgrads\u001b[0m \u001b[0;34m=\u001b[0m \u001b[0mtape\u001b[0m\u001b[0;34m.\u001b[0m\u001b[0mgradient\u001b[0m\u001b[0;34m(\u001b[0m\u001b[0mloss\u001b[0m\u001b[0;34m,\u001b[0m \u001b[0mtheta\u001b[0m\u001b[0;34m)\u001b[0m\u001b[0;34m\u001b[0m\u001b[0;34m\u001b[0m\u001b[0m\n",
      "\u001b[0;32m~/Documents/libcpab/libcpab/cpab.py\u001b[0m in \u001b[0;36mtransform_data\u001b[0;34m(self, data, theta, outsize)\u001b[0m\n\u001b[1;32m    325\u001b[0m         \u001b[0mself\u001b[0m\u001b[0;34m.\u001b[0m\u001b[0m_check_type\u001b[0m\u001b[0;34m(\u001b[0m\u001b[0mdata\u001b[0m\u001b[0;34m)\u001b[0m\u001b[0;34m;\u001b[0m \u001b[0mself\u001b[0m\u001b[0;34m.\u001b[0m\u001b[0m_check_device\u001b[0m\u001b[0;34m(\u001b[0m\u001b[0mdata\u001b[0m\u001b[0;34m)\u001b[0m\u001b[0;34m\u001b[0m\u001b[0;34m\u001b[0m\u001b[0m\n\u001b[1;32m    326\u001b[0m         \u001b[0mself\u001b[0m\u001b[0;34m.\u001b[0m\u001b[0m_check_type\u001b[0m\u001b[0;34m(\u001b[0m\u001b[0mtheta\u001b[0m\u001b[0;34m)\u001b[0m\u001b[0;34m;\u001b[0m \u001b[0mself\u001b[0m\u001b[0;34m.\u001b[0m\u001b[0m_check_device\u001b[0m\u001b[0;34m(\u001b[0m\u001b[0mtheta\u001b[0m\u001b[0;34m)\u001b[0m\u001b[0;34m\u001b[0m\u001b[0;34m\u001b[0m\u001b[0m\n\u001b[0;32m--> 327\u001b[0;31m         \u001b[0mgrid\u001b[0m \u001b[0;34m=\u001b[0m \u001b[0mself\u001b[0m\u001b[0;34m.\u001b[0m\u001b[0muniform_meshgrid\u001b[0m\u001b[0;34m(\u001b[0m\u001b[0moutsize\u001b[0m\u001b[0;34m)\u001b[0m\u001b[0;34m\u001b[0m\u001b[0;34m\u001b[0m\u001b[0m\n\u001b[0m\u001b[1;32m    328\u001b[0m         \u001b[0mgrid_t\u001b[0m \u001b[0;34m=\u001b[0m \u001b[0mself\u001b[0m\u001b[0;34m.\u001b[0m\u001b[0mtransform_grid\u001b[0m\u001b[0;34m(\u001b[0m\u001b[0mgrid\u001b[0m\u001b[0;34m,\u001b[0m \u001b[0mtheta\u001b[0m\u001b[0;34m)\u001b[0m\u001b[0;34m\u001b[0m\u001b[0;34m\u001b[0m\u001b[0m\n\u001b[1;32m    329\u001b[0m         \u001b[0mdata_t\u001b[0m \u001b[0;34m=\u001b[0m \u001b[0mself\u001b[0m\u001b[0;34m.\u001b[0m\u001b[0minterpolate\u001b[0m\u001b[0;34m(\u001b[0m\u001b[0mdata\u001b[0m\u001b[0;34m,\u001b[0m \u001b[0mgrid_t\u001b[0m\u001b[0;34m,\u001b[0m \u001b[0moutsize\u001b[0m\u001b[0;34m)\u001b[0m\u001b[0;34m\u001b[0m\u001b[0;34m\u001b[0m\u001b[0m\n",
      "\u001b[0;32m~/Documents/libcpab/libcpab/cpab.py\u001b[0m in \u001b[0;36muniform_meshgrid\u001b[0;34m(self, n_points)\u001b[0m\n\u001b[1;32m    167\u001b[0m                                              \u001b[0mself\u001b[0m\u001b[0;34m.\u001b[0m\u001b[0mparams\u001b[0m\u001b[0;34m.\u001b[0m\u001b[0mdomain_min\u001b[0m\u001b[0;34m,\u001b[0m\u001b[0;34m\u001b[0m\u001b[0;34m\u001b[0m\u001b[0m\n\u001b[1;32m    168\u001b[0m                                              \u001b[0mself\u001b[0m\u001b[0;34m.\u001b[0m\u001b[0mparams\u001b[0m\u001b[0;34m.\u001b[0m\u001b[0mdomain_max\u001b[0m\u001b[0;34m,\u001b[0m\u001b[0;34m\u001b[0m\u001b[0;34m\u001b[0m\u001b[0m\n\u001b[0;32m--> 169\u001b[0;31m                                              n_points, self.device)\n\u001b[0m\u001b[1;32m    170\u001b[0m \u001b[0;34m\u001b[0m\u001b[0m\n\u001b[1;32m    171\u001b[0m     \u001b[0;31m#%%\u001b[0m\u001b[0;34m\u001b[0m\u001b[0;34m\u001b[0m\u001b[0;34m\u001b[0m\u001b[0m\n",
      "\u001b[0;32m~/Documents/libcpab/libcpab/tensorflow/functions.py\u001b[0m in \u001b[0;36muniform_meshgrid\u001b[0;34m(ndim, domain_min, domain_max, n_points, device)\u001b[0m\n\u001b[1;32m    106\u001b[0m     \u001b[0;32mwith\u001b[0m \u001b[0mtf\u001b[0m\u001b[0;34m.\u001b[0m\u001b[0mdevice\u001b[0m\u001b[0;34m(\u001b[0m\u001b[0mdevice\u001b[0m\u001b[0;34m)\u001b[0m\u001b[0;34m:\u001b[0m\u001b[0;34m\u001b[0m\u001b[0;34m\u001b[0m\u001b[0m\n\u001b[1;32m    107\u001b[0m         lin = [tf.linspace(tf.cast(domain_min[i], tf.float32), \n\u001b[0;32m--> 108\u001b[0;31m                tf.cast(domain_max[i], tf.float32), n_points[i]) for i in range(ndim)]\n\u001b[0m\u001b[1;32m    109\u001b[0m         \u001b[0mmesh\u001b[0m \u001b[0;34m=\u001b[0m \u001b[0mtf\u001b[0m\u001b[0;34m.\u001b[0m\u001b[0mmeshgrid\u001b[0m\u001b[0;34m(\u001b[0m\u001b[0;34m*\u001b[0m\u001b[0mlin\u001b[0m\u001b[0;34m[\u001b[0m\u001b[0;34m:\u001b[0m\u001b[0;34m:\u001b[0m\u001b[0;34m-\u001b[0m\u001b[0;36m1\u001b[0m\u001b[0;34m]\u001b[0m\u001b[0;34m)\u001b[0m\u001b[0;34m\u001b[0m\u001b[0;34m\u001b[0m\u001b[0m\n\u001b[1;32m    110\u001b[0m         \u001b[0mgrid\u001b[0m \u001b[0;34m=\u001b[0m \u001b[0mtf\u001b[0m\u001b[0;34m.\u001b[0m\u001b[0mconcat\u001b[0m\u001b[0;34m(\u001b[0m\u001b[0;34m[\u001b[0m\u001b[0mtf\u001b[0m\u001b[0;34m.\u001b[0m\u001b[0mreshape\u001b[0m\u001b[0;34m(\u001b[0m\u001b[0marray\u001b[0m\u001b[0;34m,\u001b[0m \u001b[0;34m(\u001b[0m\u001b[0;36m1\u001b[0m\u001b[0;34m,\u001b[0m \u001b[0;34m-\u001b[0m\u001b[0;36m1\u001b[0m\u001b[0;34m)\u001b[0m\u001b[0;34m)\u001b[0m \u001b[0;32mfor\u001b[0m \u001b[0marray\u001b[0m \u001b[0;32min\u001b[0m \u001b[0mmesh\u001b[0m\u001b[0;34m[\u001b[0m\u001b[0;34m:\u001b[0m\u001b[0;34m:\u001b[0m\u001b[0;34m-\u001b[0m\u001b[0;36m1\u001b[0m\u001b[0;34m]\u001b[0m\u001b[0;34m]\u001b[0m\u001b[0;34m,\u001b[0m \u001b[0maxis\u001b[0m\u001b[0;34m=\u001b[0m\u001b[0;36m0\u001b[0m\u001b[0;34m)\u001b[0m\u001b[0;34m\u001b[0m\u001b[0;34m\u001b[0m\u001b[0m\n",
      "\u001b[0;32m~/Documents/libcpab/libcpab/tensorflow/functions.py\u001b[0m in \u001b[0;36m<listcomp>\u001b[0;34m(.0)\u001b[0m\n\u001b[1;32m    106\u001b[0m     \u001b[0;32mwith\u001b[0m \u001b[0mtf\u001b[0m\u001b[0;34m.\u001b[0m\u001b[0mdevice\u001b[0m\u001b[0;34m(\u001b[0m\u001b[0mdevice\u001b[0m\u001b[0;34m)\u001b[0m\u001b[0;34m:\u001b[0m\u001b[0;34m\u001b[0m\u001b[0;34m\u001b[0m\u001b[0m\n\u001b[1;32m    107\u001b[0m         lin = [tf.linspace(tf.cast(domain_min[i], tf.float32), \n\u001b[0;32m--> 108\u001b[0;31m                tf.cast(domain_max[i], tf.float32), n_points[i]) for i in range(ndim)]\n\u001b[0m\u001b[1;32m    109\u001b[0m         \u001b[0mmesh\u001b[0m \u001b[0;34m=\u001b[0m \u001b[0mtf\u001b[0m\u001b[0;34m.\u001b[0m\u001b[0mmeshgrid\u001b[0m\u001b[0;34m(\u001b[0m\u001b[0;34m*\u001b[0m\u001b[0mlin\u001b[0m\u001b[0;34m[\u001b[0m\u001b[0;34m:\u001b[0m\u001b[0;34m:\u001b[0m\u001b[0;34m-\u001b[0m\u001b[0;36m1\u001b[0m\u001b[0;34m]\u001b[0m\u001b[0;34m)\u001b[0m\u001b[0;34m\u001b[0m\u001b[0;34m\u001b[0m\u001b[0m\n\u001b[1;32m    110\u001b[0m         \u001b[0mgrid\u001b[0m \u001b[0;34m=\u001b[0m \u001b[0mtf\u001b[0m\u001b[0;34m.\u001b[0m\u001b[0mconcat\u001b[0m\u001b[0;34m(\u001b[0m\u001b[0;34m[\u001b[0m\u001b[0mtf\u001b[0m\u001b[0;34m.\u001b[0m\u001b[0mreshape\u001b[0m\u001b[0;34m(\u001b[0m\u001b[0marray\u001b[0m\u001b[0;34m,\u001b[0m \u001b[0;34m(\u001b[0m\u001b[0;36m1\u001b[0m\u001b[0;34m,\u001b[0m \u001b[0;34m-\u001b[0m\u001b[0;36m1\u001b[0m\u001b[0;34m)\u001b[0m\u001b[0;34m)\u001b[0m \u001b[0;32mfor\u001b[0m \u001b[0marray\u001b[0m \u001b[0;32min\u001b[0m \u001b[0mmesh\u001b[0m\u001b[0;34m[\u001b[0m\u001b[0;34m:\u001b[0m\u001b[0;34m:\u001b[0m\u001b[0;34m-\u001b[0m\u001b[0;36m1\u001b[0m\u001b[0;34m]\u001b[0m\u001b[0;34m]\u001b[0m\u001b[0;34m,\u001b[0m \u001b[0maxis\u001b[0m\u001b[0;34m=\u001b[0m\u001b[0;36m0\u001b[0m\u001b[0;34m)\u001b[0m\u001b[0;34m\u001b[0m\u001b[0;34m\u001b[0m\u001b[0m\n",
      "\u001b[0;32m~/anaconda3/lib/python3.7/site-packages/tensorflow/python/util/dispatch.py\u001b[0m in \u001b[0;36mwrapper\u001b[0;34m(*args, **kwargs)\u001b[0m\n\u001b[1;32m    178\u001b[0m     \u001b[0;34m\"\"\"Call target, and fall back on dispatchers if there is a TypeError.\"\"\"\u001b[0m\u001b[0;34m\u001b[0m\u001b[0;34m\u001b[0m\u001b[0m\n\u001b[1;32m    179\u001b[0m     \u001b[0;32mtry\u001b[0m\u001b[0;34m:\u001b[0m\u001b[0;34m\u001b[0m\u001b[0;34m\u001b[0m\u001b[0m\n\u001b[0;32m--> 180\u001b[0;31m       \u001b[0;32mreturn\u001b[0m \u001b[0mtarget\u001b[0m\u001b[0;34m(\u001b[0m\u001b[0;34m*\u001b[0m\u001b[0margs\u001b[0m\u001b[0;34m,\u001b[0m \u001b[0;34m**\u001b[0m\u001b[0mkwargs\u001b[0m\u001b[0;34m)\u001b[0m\u001b[0;34m\u001b[0m\u001b[0;34m\u001b[0m\u001b[0m\n\u001b[0m\u001b[1;32m    181\u001b[0m     \u001b[0;32mexcept\u001b[0m \u001b[0;34m(\u001b[0m\u001b[0mTypeError\u001b[0m\u001b[0;34m,\u001b[0m \u001b[0mValueError\u001b[0m\u001b[0;34m)\u001b[0m\u001b[0;34m:\u001b[0m\u001b[0;34m\u001b[0m\u001b[0;34m\u001b[0m\u001b[0m\n\u001b[1;32m    182\u001b[0m       \u001b[0;31m# Note: convert_to_eager_tensor currently raises a ValueError, not a\u001b[0m\u001b[0;34m\u001b[0m\u001b[0;34m\u001b[0m\u001b[0;34m\u001b[0m\u001b[0m\n",
      "\u001b[0;32m~/anaconda3/lib/python3.7/site-packages/tensorflow/python/ops/math_ops.py\u001b[0m in \u001b[0;36mcast\u001b[0;34m(x, dtype, name)\u001b[0m\n\u001b[1;32m    687\u001b[0m       \u001b[0mx\u001b[0m \u001b[0;34m=\u001b[0m \u001b[0mops\u001b[0m\u001b[0;34m.\u001b[0m\u001b[0mconvert_to_tensor\u001b[0m\u001b[0;34m(\u001b[0m\u001b[0mx\u001b[0m\u001b[0;34m,\u001b[0m \u001b[0mname\u001b[0m\u001b[0;34m=\u001b[0m\u001b[0;34m\"x\"\u001b[0m\u001b[0;34m)\u001b[0m\u001b[0;34m\u001b[0m\u001b[0;34m\u001b[0m\u001b[0m\n\u001b[1;32m    688\u001b[0m       \u001b[0;32mif\u001b[0m \u001b[0mx\u001b[0m\u001b[0;34m.\u001b[0m\u001b[0mdtype\u001b[0m\u001b[0;34m.\u001b[0m\u001b[0mbase_dtype\u001b[0m \u001b[0;34m!=\u001b[0m \u001b[0mbase_type\u001b[0m\u001b[0;34m:\u001b[0m\u001b[0;34m\u001b[0m\u001b[0;34m\u001b[0m\u001b[0m\n\u001b[0;32m--> 689\u001b[0;31m         \u001b[0mx\u001b[0m \u001b[0;34m=\u001b[0m \u001b[0mgen_math_ops\u001b[0m\u001b[0;34m.\u001b[0m\u001b[0mcast\u001b[0m\u001b[0;34m(\u001b[0m\u001b[0mx\u001b[0m\u001b[0;34m,\u001b[0m \u001b[0mbase_type\u001b[0m\u001b[0;34m,\u001b[0m \u001b[0mname\u001b[0m\u001b[0;34m=\u001b[0m\u001b[0mname\u001b[0m\u001b[0;34m)\u001b[0m\u001b[0;34m\u001b[0m\u001b[0;34m\u001b[0m\u001b[0m\n\u001b[0m\u001b[1;32m    690\u001b[0m     \u001b[0;32mif\u001b[0m \u001b[0mx\u001b[0m\u001b[0;34m.\u001b[0m\u001b[0mdtype\u001b[0m\u001b[0;34m.\u001b[0m\u001b[0mis_complex\u001b[0m \u001b[0;32mand\u001b[0m \u001b[0mbase_type\u001b[0m\u001b[0;34m.\u001b[0m\u001b[0mis_floating\u001b[0m\u001b[0;34m:\u001b[0m\u001b[0;34m\u001b[0m\u001b[0;34m\u001b[0m\u001b[0m\n\u001b[1;32m    691\u001b[0m       \u001b[0mlogging\u001b[0m\u001b[0;34m.\u001b[0m\u001b[0mwarn\u001b[0m\u001b[0;34m(\u001b[0m\u001b[0;34m\"Casting complex to real discards imaginary part.\"\u001b[0m\u001b[0;34m)\u001b[0m\u001b[0;34m\u001b[0m\u001b[0;34m\u001b[0m\u001b[0m\n",
      "\u001b[0;32m~/anaconda3/lib/python3.7/site-packages/tensorflow/python/ops/gen_math_ops.py\u001b[0m in \u001b[0;36mcast\u001b[0;34m(x, DstT, Truncate, name)\u001b[0m\n\u001b[1;32m   2161\u001b[0m         \u001b[0m_ctx\u001b[0m\u001b[0;34m.\u001b[0m\u001b[0m_context_handle\u001b[0m\u001b[0;34m,\u001b[0m \u001b[0m_ctx\u001b[0m\u001b[0;34m.\u001b[0m\u001b[0m_thread_local_data\u001b[0m\u001b[0;34m.\u001b[0m\u001b[0mdevice_name\u001b[0m\u001b[0;34m,\u001b[0m \u001b[0;34m\"Cast\"\u001b[0m\u001b[0;34m,\u001b[0m\u001b[0;34m\u001b[0m\u001b[0;34m\u001b[0m\u001b[0m\n\u001b[1;32m   2162\u001b[0m         \u001b[0mname\u001b[0m\u001b[0;34m,\u001b[0m \u001b[0m_ctx\u001b[0m\u001b[0;34m.\u001b[0m\u001b[0m_post_execution_callbacks\u001b[0m\u001b[0;34m,\u001b[0m \u001b[0mx\u001b[0m\u001b[0;34m,\u001b[0m \u001b[0;34m\"DstT\"\u001b[0m\u001b[0;34m,\u001b[0m \u001b[0mDstT\u001b[0m\u001b[0;34m,\u001b[0m \u001b[0;34m\"Truncate\"\u001b[0m\u001b[0;34m,\u001b[0m\u001b[0;34m\u001b[0m\u001b[0;34m\u001b[0m\u001b[0m\n\u001b[0;32m-> 2163\u001b[0;31m         Truncate)\n\u001b[0m\u001b[1;32m   2164\u001b[0m       \u001b[0;32mreturn\u001b[0m \u001b[0m_result\u001b[0m\u001b[0;34m\u001b[0m\u001b[0;34m\u001b[0m\u001b[0m\n\u001b[1;32m   2165\u001b[0m     \u001b[0;32mexcept\u001b[0m \u001b[0m_core\u001b[0m\u001b[0;34m.\u001b[0m\u001b[0m_FallbackException\u001b[0m\u001b[0;34m:\u001b[0m\u001b[0;34m\u001b[0m\u001b[0;34m\u001b[0m\u001b[0m\n",
      "\u001b[0;31mKeyboardInterrupt\u001b[0m: "
     ]
    }
   ],
   "source": [
    "# Make the list of pairs we wnat to align from the training data\n",
    "pairs = make_pairs_list(data['X_train'], data['y_train'])\n",
    "# Then align those by optimization using CPAB. \n",
    "transformations, losses_before, losses_after = align(data['X_train'], pairs)"
   ]
  },
  {
   "cell_type": "code",
   "execution_count": 6,
   "metadata": {},
   "outputs": [],
   "source": [
    "import pickle\n",
    "#pickle.dump(transformations, open('demo_trafos.p', 'wb'))\n",
    "transformations = pickle.load(open('demo_trafos.p', 'rb'))"
   ]
  },
  {
   "cell_type": "markdown",
   "metadata": {},
   "source": [
    "# 2. Build a statistical model over the transformations\n",
    "\n",
    "Now that we have found the `transformations` we want to build a statistical model over them. We will fit a multidimensional Gaussian distribution. We assume it to have mean $\\mu = 0$. This is reasonable: If $T^{\\theta}$ takes $s_1$ to $s_2$, then $T^{-\\theta}$ should do the opposite, i.e. taking $s_2$ back to $s_1$. Thus, the only thing we have to do is to estimate the standard deviations for each class."
   ]
  },
  {
   "cell_type": "code",
   "execution_count": 7,
   "metadata": {},
   "outputs": [
    {
     "name": "stdout",
     "output_type": "stream",
     "text": [
      "\n",
      " This cell contains helper functions for building the statistical model, \n",
      "i.e. compute the standard deviations per class.\n"
     ]
    },
    {
     "data": {
      "text/html": [
       "\n",
       "        <script>\n",
       "            function code_toggle_10145843963040147407() {\n",
       "                $('div.cell.code_cell.rendered.selected').find('div.input').toggle();\n",
       "            }\n",
       "\n",
       "            \n",
       "        </script>\n",
       "\n",
       "        <a href=\"javascript:code_toggle_10145843963040147407()\">Show/hide cell</a>\n",
       "    "
      ],
      "text/plain": [
       "<IPython.core.display.HTML object>"
      ]
     },
     "execution_count": 7,
     "metadata": {},
     "output_type": "execute_result"
    }
   ],
   "source": [
    "def make_class_lookup(X, y):\n",
    "    classes = list(range(max(np.unique(y)) + 1))\n",
    "    X_classes = {}\n",
    "    index_lookup = {}\n",
    "    for idx in classes:\n",
    "        X_classes[idx] = X[np.where(y == idx)]\n",
    "        index_lookup[idx] = np.where(y == idx)[0]\n",
    "    return classes, X_classes, index_lookup\n",
    "\n",
    "def compute_sigmas(X_train, y_train, theta_classes):\n",
    "    classes, X_classes, index_lookup = make_class_lookup(X_train, y_train)\n",
    "    theta_len = theta_classes[list(theta_classes.keys())[0]].shape[1]\n",
    "    sigmas = {}\n",
    "    no_data = []\n",
    "    for idx in classes:\n",
    "        # add a small multiple of the identity for numerical reasons\n",
    "        sigmas[idx] = np.cov(theta_classes[idx], rowvar=False)  + np.eye(theta_len)*1e-10\n",
    "    return sigmas\n",
    "\n",
    "print('''\\n This cell contains helper functions for building the statistical model, \n",
    "i.e. compute the standard deviations per class.''')\n",
    "\n",
    "hide_toggle()"
   ]
  },
  {
   "cell_type": "code",
   "execution_count": 8,
   "metadata": {},
   "outputs": [],
   "source": [
    "sigmas = compute_sigmas(data['X_train'], data['y_train'], transformations)"
   ]
  },
  {
   "cell_type": "markdown",
   "metadata": {},
   "source": [
    "In order to visualize the statistical model, we perform principal component analysis to reduce the dimensionality of the $\\theta$ to 2. In the plot below, each transformation corresponds to one black point. The colouring represents the fitted Gaussian distribution."
   ]
  },
  {
   "cell_type": "code",
   "execution_count": 9,
   "metadata": {},
   "outputs": [
    {
     "name": "stdout",
     "output_type": "stream",
     "text": [
      "This cell plots the estimated thetas and the fitted Gaussian.\n"
     ]
    },
    {
     "data": {
      "text/html": [
       "\n",
       "        <script>\n",
       "            function code_toggle_1830562957359040263() {\n",
       "                $('div.cell.code_cell.rendered.selected').find('div.input').toggle();\n",
       "            }\n",
       "\n",
       "            \n",
       "        </script>\n",
       "\n",
       "        <a href=\"javascript:code_toggle_1830562957359040263()\">Show/hide cell</a>\n",
       "    "
      ],
      "text/plain": [
       "<IPython.core.display.HTML object>"
      ]
     },
     "execution_count": 9,
     "metadata": {},
     "output_type": "execute_result"
    },
    {
     "data": {
      "image/png": "[encoded data removed]",
      "text/plain": [
       "<matplotlib.figure.Figure at 0x1a31e404a8>"
      ]
     },
     "metadata": {},
     "output_type": "display_data"
    }
   ],
   "source": [
    "pca = PCA(n_components=2)\n",
    "zero_transformation_pcs = pca.fit_transform(transformations[0])\n",
    "pc_sigma = np.cov(zero_transformation_pcs, rowvar=False)\n",
    "\n",
    "# Plot multivariate Gaussian with estimated parameters\n",
    "def multivariate_gaussian(pos, mu, Sigma):\n",
    "    \"\"\"Return the multivariate Gaussian distribution on array pos.\n",
    "    pos is an array constructed by packing the meshed arrays of variables\n",
    "    x_1, x_2, x_3, ..., x_k into its _last_ dimension.\n",
    "\n",
    "    \"\"\"\n",
    "    n = mu.shape[0]\n",
    "    Sigma_det = np.linalg.det(Sigma)\n",
    "    Sigma_inv = np.linalg.inv(Sigma)\n",
    "    N = np.sqrt((2*np.pi)**n * Sigma_det)\n",
    "    # This einsum call calculates (x-mu)T.Sigma-1.(x-mu) in a vectorized\n",
    "    # way across all the input variables.\n",
    "    fac = np.einsum('...k,kl,...l->...', pos-mu, Sigma_inv, pos-mu)\n",
    "    return np.exp(-fac / 2) / N\n",
    "\n",
    "mean = np.array([0,0])\n",
    "x = np.linspace(-10, 10, 50)\n",
    "y = np.linspace(-10, 10, 50)\n",
    "\n",
    "X, Y = np.meshgrid(x, y)\n",
    "pos = np.empty(X.shape + (2,))\n",
    "pos[:, :, 0] = X\n",
    "pos[:, :, 1] = Y\n",
    "# The distribution on the variables X, Y packed into pos.\n",
    "Z = multivariate_gaussian(pos, mean, pc_sigma)\n",
    "plt.figure(figsize = (10,7))\n",
    "plt.contourf(X, Y, Z, 1000, cmap='OrRd', alpha=1)\n",
    "plt.scatter(zero_transformation_pcs[:,0], zero_transformation_pcs[:,1], c='k', s=5)\n",
    "plt.axis('off')\n",
    "\n",
    "print('This cell plots the estimated thetas and the fitted Gaussian.')\n",
    "hide_toggle()"
   ]
  },
  {
   "cell_type": "markdown",
   "metadata": {},
   "source": [
    "# 3. Augment dataset by sampling transformations and applying them"
   ]
  },
  {
   "cell_type": "markdown",
   "metadata": {},
   "source": [
    "Now that we have aligned the time series and built a statistical model over them we can actually perform our data augmentation. To do that, we pick a time series uniformly at random and sample a transformation from the fitted Gaussian. This process can be repeated arbitrarily often to produce an theoretically infinite amount of new data. Below, we plot the general trend of new datapoints in an animation showing the first prinicpal component of variation (see animation) as well as just one sample (plot)."
   ]
  },
  {
   "cell_type": "code",
   "execution_count": 10,
   "metadata": {},
   "outputs": [
    {
     "name": "stdout",
     "output_type": "stream",
     "text": [
      "This cell contains functions for the actual augmentation.\n"
     ]
    },
    {
     "data": {
      "text/html": [
       "\n",
       "        <script>\n",
       "            function code_toggle_577909150372465355() {\n",
       "                $('div.cell.code_cell.rendered.selected').find('div.input').toggle();\n",
       "            }\n",
       "\n",
       "            \n",
       "        </script>\n",
       "\n",
       "        <a href=\"javascript:code_toggle_577909150372465355()\">Show/hide cell</a>\n",
       "    "
      ],
      "text/plain": [
       "<IPython.core.display.HTML object>"
      ]
     },
     "execution_count": 10,
     "metadata": {},
     "output_type": "execute_result"
    }
   ],
   "source": [
    "def generate_new_data(T, sigma, X_train, indices, N_step=100, N_p=10):\n",
    "    train_size, ts_length = X_train.shape\n",
    "    # Sample new transformation from Gaussian distribution\n",
    "    theta_new = np.random.multivariate_normal(mean=np.zeros(N_p - 1), cov=sigma)\n",
    "    theta_new = theta_new.reshape((1, N_p - 1))\n",
    "    # Sample a data point from uniform distribution\n",
    "    i = random.randint(0, train_size-1)\n",
    "    x_i = X_train[i]\n",
    "    source = np.expand_dims(np.expand_dims(x_i, 0), 2)\n",
    "    # Transform time series\n",
    "    new_point = T.transform_data(source, theta_new)\n",
    "    return new_point, indices[i], theta_new\n",
    "\n",
    "\n",
    "def augment_dataset(X, y, theta_classes, sigmas, which):\n",
    "    if which == 'training':\n",
    "        nr_augment = 1000\n",
    "    if which == 'val':\n",
    "        nr_augment = 300\n",
    "    train_size, ts_length = X.shape\n",
    "    theta_len = theta_classes[list(theta_classes.keys())[0]].shape[1]\n",
    "    T = cpab(tess_size=[10], return_tf_tensors=False, zero_boundary=True)\n",
    "    T.fix_data_size([ts_length, 1])\n",
    "    augmented_indices = np.empty(nr_augment)\n",
    "    aug_thetas = np.empty((nr_augment, theta_len))\n",
    "    X_augmented = np.empty((train_size + nr_augment, ts_length))\n",
    "    X_augmented[:train_size, :] = X\n",
    "    y_augmented = np.empty((train_size + nr_augment, 1))\n",
    "    y_augmented[:train_size, :] = y.reshape((len(y), 1))\n",
    "    augmented_data_set = {}\n",
    "    idx = 0\n",
    "    start = time.time()\n",
    "    valid_classes = list(np.unique(y))\n",
    "    _, X_classes, index_lookup = make_class_lookup(X, y)\n",
    "    while idx < nr_augment:\n",
    "        class_idx = random.choice(list(valid_classes))\n",
    "        # Generate new data point\n",
    "        new_data, old_ix, aug_theta = generate_new_data(T, sigmas[class_idx], X_classes[class_idx],\n",
    "                                                          index_lookup[class_idx])\n",
    "        # Save new point and original index\n",
    "        augmented_indices[idx] = old_ix\n",
    "        X_augmented[train_size + idx, :] = new_data.flatten()\n",
    "        y_augmented[train_size + idx] = class_idx\n",
    "\n",
    "        idx += 1\n",
    "    return X_augmented, y_augmented.astype(int), augmented_indices.astype(int), aug_thetas\n",
    "\n",
    "print('This cell contains functions for the actual augmentation.')\n",
    "hide_toggle()"
   ]
  },
  {
   "cell_type": "code",
   "execution_count": 11,
   "metadata": {},
   "outputs": [],
   "source": [
    "X_train_aug, y_train_aug, augmented_indices, _ = augment_dataset(data['X_train'], data['y_train'], transformations, sigmas, which='training')"
   ]
  },
  {
   "cell_type": "code",
   "execution_count": 22,
   "metadata": {},
   "outputs": [
    {
     "data": {
      "application/javascript": [
       "/* Put everything inside the global mpl namespace */\n",
       "window.mpl = {};\n",
       "\n",
       "\n",
       "mpl.get_websocket_type = function() {\n",
       "    if (typeof(WebSocket) !== 'undefined') {\n",
       "        return WebSocket;\n",
       "    } else if (typeof(MozWebSocket) !== 'undefined') {\n",
       "        return MozWebSocket;\n",
       "    } else {\n",
       "        alert('Your browser does not have WebSocket support.' +\n",
       "              'Please try Chrome, Safari or Firefox ≥ 6. ' +\n",
       "              'Firefox 4 and 5 are also supported but you ' +\n",
       "              'have to enable WebSockets in about:config.');\n",
       "    };\n",
       "}\n",
       "\n",
       "mpl.figure = function(figure_id, websocket, ondownload, parent_element) {\n",
       "    this.id = figure_id;\n",
       "\n",
       "    this.ws = websocket;\n",
       "\n",
       "    this.supports_binary = (this.ws.binaryType != undefined);\n",
       "\n",
       "    if (!this.supports_binary) {\n",
       "        var warnings = document.getElementById(\"mpl-warnings\");\n",
       "        if (warnings) {\n",
       "            warnings.style.display = 'block';\n",
       "            warnings.textContent = (\n",
       "                \"This browser does not support binary websocket messages. \" +\n",
       "                    \"Performance may be slow.\");\n",
       "        }\n",
       "    }\n",
       "\n",
       "    this.imageObj = new Image();\n",
       "\n",
       "    this.context = undefined;\n",
       "    this.message = undefined;\n",
       "    this.canvas = undefined;\n",
       "    this.rubberband_canvas = undefined;\n",
       "    this.rubberband_context = undefined;\n",
       "    this.format_dropdown = undefined;\n",
       "\n",
       "    this.image_mode = 'full';\n",
       "\n",
       "    this.root = $('<div/>');\n",
       "    this._root_extra_style(this.root)\n",
       "    this.root.attr('style', 'display: inline-block');\n",
       "\n",
       "    $(parent_element).append(this.root);\n",
       "\n",
       "    this._init_header(this);\n",
       "    this._init_canvas(this);\n",
       "    this._init_toolbar(this);\n",
       "\n",
       "    var fig = this;\n",
       "\n",
       "    this.waiting = false;\n",
       "\n",
       "    this.ws.onopen =  function () {\n",
       "            fig.send_message(\"supports_binary\", {value: fig.supports_binary});\n",
       "            fig.send_message(\"send_image_mode\", {});\n",
       "            if (mpl.ratio != 1) {\n",
       "                fig.send_message(\"set_dpi_ratio\", {'dpi_ratio': mpl.ratio});\n",
       "            }\n",
       "            fig.send_message(\"refresh\", {});\n",
       "        }\n",
       "\n",
       "    this.imageObj.onload = function() {\n",
       "            if (fig.image_mode == 'full') {\n",
       "                // Full images could contain transparency (where diff images\n",
       "                // almost always do), so we need to clear the canvas so that\n",
       "                // there is no ghosting.\n",
       "                fig.context.clearRect(0, 0, fig.canvas.width, fig.canvas.height);\n",
       "            }\n",
       "            fig.context.drawImage(fig.imageObj, 0, 0);\n",
       "        };\n",
       "\n",
       "    this.imageObj.onunload = function() {\n",
       "        fig.ws.close();\n",
       "    }\n",
       "\n",
       "    this.ws.onmessage = this._make_on_message_function(this);\n",
       "\n",
       "    this.ondownload = ondownload;\n",
       "}\n",
       "\n",
       "mpl.figure.prototype._init_header = function() {\n",
       "    var titlebar = $(\n",
       "        '<div class=\"ui-dialog-titlebar ui-widget-header ui-corner-all ' +\n",
       "        'ui-helper-clearfix\"/>');\n",
       "    var titletext = $(\n",
       "        '<div class=\"ui-dialog-title\" style=\"width: 100%; ' +\n",
       "        'text-align: center; padding: 3px;\"/>');\n",
       "    titlebar.append(titletext)\n",
       "    this.root.append(titlebar);\n",
       "    this.header = titletext[0];\n",
       "}\n",
       "\n",
       "\n",
       "\n",
       "mpl.figure.prototype._canvas_extra_style = function(canvas_div) {\n",
       "\n",
       "}\n",
       "\n",
       "\n",
       "mpl.figure.prototype._root_extra_style = function(canvas_div) {\n",
       "\n",
       "}\n",
       "\n",
       "mpl.figure.prototype._init_canvas = function() {\n",
       "    var fig = this;\n",
       "\n",
       "    var canvas_div = $('<div/>');\n",
       "\n",
       "    canvas_div.attr('style', 'position: relative; clear: both; outline: 0');\n",
       "\n",
       "    function canvas_keyboard_event(event) {\n",
       "        return fig.key_event(event, event['data']);\n",
       "    }\n",
       "\n",
       "    canvas_div.keydown('key_press', canvas_keyboard_event);\n",
       "    canvas_div.keyup('key_release', canvas_keyboard_event);\n",
       "    this.canvas_div = canvas_div\n",
       "    this._canvas_extra_style(canvas_div)\n",
       "    this.root.append(canvas_div);\n",
       "\n",
       "    var canvas = $('<canvas/>');\n",
       "    canvas.addClass('mpl-canvas');\n",
       "    canvas.attr('style', \"left: 0; top: 0; z-index: 0; outline: 0\")\n",
       "\n",
       "    this.canvas = canvas[0];\n",
       "    this.context = canvas[0].getContext(\"2d\");\n",
       "\n",
       "    var backingStore = this.context.backingStorePixelRatio ||\n",
       "\tthis.context.webkitBackingStorePixelRatio ||\n",
       "\tthis.context.mozBackingStorePixelRatio ||\n",
       "\tthis.context.msBackingStorePixelRatio ||\n",
       "\tthis.context.oBackingStorePixelRatio ||\n",
       "\tthis.context.backingStorePixelRatio || 1;\n",
       "\n",
       "    mpl.ratio = (window.devicePixelRatio || 1) / backingStore;\n",
       "\n",
       "    var rubberband = $('<canvas/>');\n",
       "    rubberband.attr('style', \"position: absolute; left: 0; top: 0; z-index: 1;\")\n",
       "\n",
       "    var pass_mouse_events = true;\n",
       "\n",
       "    canvas_div.resizable({\n",
       "        start: function(event, ui) {\n",
       "            pass_mouse_events = false;\n",
       "        },\n",
       "        resize: function(event, ui) {\n",
       "            fig.request_resize(ui.size.width, ui.size.height);\n",
       "        },\n",
       "        stop: function(event, ui) {\n",
       "            pass_mouse_events = true;\n",
       "            fig.request_resize(ui.size.width, ui.size.height);\n",
       "        },\n",
       "    });\n",
       "\n",
       "    function mouse_event_fn(event) {\n",
       "        if (pass_mouse_events)\n",
       "            return fig.mouse_event(event, event['data']);\n",
       "    }\n",
       "\n",
       "    rubberband.mousedown('button_press', mouse_event_fn);\n",
       "    rubberband.mouseup('button_release', mouse_event_fn);\n",
       "    // Throttle sequential mouse events to 1 every 20ms.\n",
       "    rubberband.mousemove('motion_notify', mouse_event_fn);\n",
       "\n",
       "    rubberband.mouseenter('figure_enter', mouse_event_fn);\n",
       "    rubberband.mouseleave('figure_leave', mouse_event_fn);\n",
       "\n",
       "    canvas_div.on(\"wheel\", function (event) {\n",
       "        event = event.originalEvent;\n",
       "        event['data'] = 'scroll'\n",
       "        if (event.deltaY < 0) {\n",
       "            event.step = 1;\n",
       "        } else {\n",
       "            event.step = -1;\n",
       "        }\n",
       "        mouse_event_fn(event);\n",
       "    });\n",
       "\n",
       "    canvas_div.append(canvas);\n",
       "    canvas_div.append(rubberband);\n",
       "\n",
       "    this.rubberband = rubberband;\n",
       "    this.rubberband_canvas = rubberband[0];\n",
       "    this.rubberband_context = rubberband[0].getContext(\"2d\");\n",
       "    this.rubberband_context.strokeStyle = \"#000000\";\n",
       "\n",
       "    this._resize_canvas = function(width, height) {\n",
       "        // Keep the size of the canvas, canvas container, and rubber band\n",
       "        // canvas in synch.\n",
       "        canvas_div.css('width', width)\n",
       "        canvas_div.css('height', height)\n",
       "\n",
       "        canvas.attr('width', width * mpl.ratio);\n",
       "        canvas.attr('height', height * mpl.ratio);\n",
       "        canvas.attr('style', 'width: ' + width + 'px; height: ' + height + 'px;');\n",
       "\n",
       "        rubberband.attr('width', width);\n",
       "        rubberband.attr('height', height);\n",
       "    }\n",
       "\n",
       "    // Set the figure to an initial 600x600px, this will subsequently be updated\n",
       "    // upon first draw.\n",
       "    this._resize_canvas(600, 600);\n",
       "\n",
       "    // Disable right mouse context menu.\n",
       "    $(this.rubberband_canvas).bind(\"contextmenu\",function(e){\n",
       "        return false;\n",
       "    });\n",
       "\n",
       "    function set_focus () {\n",
       "        canvas.focus();\n",
       "        canvas_div.focus();\n",
       "    }\n",
       "\n",
       "    window.setTimeout(set_focus, 100);\n",
       "}\n",
       "\n",
       "mpl.figure.prototype._init_toolbar = function() {\n",
       "    var fig = this;\n",
       "\n",
       "    var nav_element = $('<div/>')\n",
       "    nav_element.attr('style', 'width: 100%');\n",
       "    this.root.append(nav_element);\n",
       "\n",
       "    // Define a callback function for later on.\n",
       "    function toolbar_event(event) {\n",
       "        return fig.toolbar_button_onclick(event['data']);\n",
       "    }\n",
       "    function toolbar_mouse_event(event) {\n",
       "        return fig.toolbar_button_onmouseover(event['data']);\n",
       "    }\n",
       "\n",
       "    for(var toolbar_ind in mpl.toolbar_items) {\n",
       "        var name = mpl.toolbar_items[toolbar_ind][0];\n",
       "        var tooltip = mpl.toolbar_items[toolbar_ind][1];\n",
       "        var image = mpl.toolbar_items[toolbar_ind][2];\n",
       "        var method_name = mpl.toolbar_items[toolbar_ind][3];\n",
       "\n",
       "        if (!name) {\n",
       "            // put a spacer in here.\n",
       "            continue;\n",
       "        }\n",
       "        var button = $('<button/>');\n",
       "        button.addClass('ui-button ui-widget ui-state-default ui-corner-all ' +\n",
       "                        'ui-button-icon-only');\n",
       "        button.attr('role', 'button');\n",
       "        button.attr('aria-disabled', 'false');\n",
       "        button.click(method_name, toolbar_event);\n",
       "        button.mouseover(tooltip, toolbar_mouse_event);\n",
       "\n",
       "        var icon_img = $('<span/>');\n",
       "        icon_img.addClass('ui-button-icon-primary ui-icon');\n",
       "        icon_img.addClass(image);\n",
       "        icon_img.addClass('ui-corner-all');\n",
       "\n",
       "        var tooltip_span = $('<span/>');\n",
       "        tooltip_span.addClass('ui-button-text');\n",
       "        tooltip_span.html(tooltip);\n",
       "\n",
       "        button.append(icon_img);\n",
       "        button.append(tooltip_span);\n",
       "\n",
       "        nav_element.append(button);\n",
       "    }\n",
       "\n",
       "    var fmt_picker_span = $('<span/>');\n",
       "\n",
       "    var fmt_picker = $('<select/>');\n",
       "    fmt_picker.addClass('mpl-toolbar-option ui-widget ui-widget-content');\n",
       "    fmt_picker_span.append(fmt_picker);\n",
       "    nav_element.append(fmt_picker_span);\n",
       "    this.format_dropdown = fmt_picker[0];\n",
       "\n",
       "    for (var ind in mpl.extensions) {\n",
       "        var fmt = mpl.extensions[ind];\n",
       "        var option = $(\n",
       "            '<option/>', {selected: fmt === mpl.default_extension}).html(fmt);\n",
       "        fmt_picker.append(option)\n",
       "    }\n",
       "\n",
       "    // Add hover states to the ui-buttons\n",
       "    $( \".ui-button\" ).hover(\n",
       "        function() { $(this).addClass(\"ui-state-hover\");},\n",
       "        function() { $(this).removeClass(\"ui-state-hover\");}\n",
       "    );\n",
       "\n",
       "    var status_bar = $('<span class=\"mpl-message\"/>');\n",
       "    nav_element.append(status_bar);\n",
       "    this.message = status_bar[0];\n",
       "}\n",
       "\n",
       "mpl.figure.prototype.request_resize = function(x_pixels, y_pixels) {\n",
       "    // Request matplotlib to resize the figure. Matplotlib will then trigger a resize in the client,\n",
       "    // which will in turn request a refresh of the image.\n",
       "    this.send_message('resize', {'width': x_pixels, 'height': y_pixels});\n",
       "}\n",
       "\n",
       "mpl.figure.prototype.send_message = function(type, properties) {\n",
       "    properties['type'] = type;\n",
       "    properties['figure_id'] = this.id;\n",
       "    this.ws.send(JSON.stringify(properties));\n",
       "}\n",
       "\n",
       "mpl.figure.prototype.send_draw_message = function() {\n",
       "    if (!this.waiting) {\n",
       "        this.waiting = true;\n",
       "        this.ws.send(JSON.stringify({type: \"draw\", figure_id: this.id}));\n",
       "    }\n",
       "}\n",
       "\n",
       "\n",
       "mpl.figure.prototype.handle_save = function(fig, msg) {\n",
       "    var format_dropdown = fig.format_dropdown;\n",
       "    var format = format_dropdown.options[format_dropdown.selectedIndex].value;\n",
       "    fig.ondownload(fig, format);\n",
       "}\n",
       "\n",
       "\n",
       "mpl.figure.prototype.handle_resize = function(fig, msg) {\n",
       "    var size = msg['size'];\n",
       "    if (size[0] != fig.canvas.width || size[1] != fig.canvas.height) {\n",
       "        fig._resize_canvas(size[0], size[1]);\n",
       "        fig.send_message(\"refresh\", {});\n",
       "    };\n",
       "}\n",
       "\n",
       "mpl.figure.prototype.handle_rubberband = function(fig, msg) {\n",
       "    var x0 = msg['x0'] / mpl.ratio;\n",
       "    var y0 = (fig.canvas.height - msg['y0']) / mpl.ratio;\n",
       "    var x1 = msg['x1'] / mpl.ratio;\n",
       "    var y1 = (fig.canvas.height - msg['y1']) / mpl.ratio;\n",
       "    x0 = Math.floor(x0) + 0.5;\n",
       "    y0 = Math.floor(y0) + 0.5;\n",
       "    x1 = Math.floor(x1) + 0.5;\n",
       "    y1 = Math.floor(y1) + 0.5;\n",
       "    var min_x = Math.min(x0, x1);\n",
       "    var min_y = Math.min(y0, y1);\n",
       "    var width = Math.abs(x1 - x0);\n",
       "    var height = Math.abs(y1 - y0);\n",
       "\n",
       "    fig.rubberband_context.clearRect(\n",
       "        0, 0, fig.canvas.width, fig.canvas.height);\n",
       "\n",
       "    fig.rubberband_context.strokeRect(min_x, min_y, width, height);\n",
       "}\n",
       "\n",
       "mpl.figure.prototype.handle_figure_label = function(fig, msg) {\n",
       "    // Updates the figure title.\n",
       "    fig.header.textContent = msg['label'];\n",
       "}\n",
       "\n",
       "mpl.figure.prototype.handle_cursor = function(fig, msg) {\n",
       "    var cursor = msg['cursor'];\n",
       "    switch(cursor)\n",
       "    {\n",
       "    case 0:\n",
       "        cursor = 'pointer';\n",
       "        break;\n",
       "    case 1:\n",
       "        cursor = 'default';\n",
       "        break;\n",
       "    case 2:\n",
       "        cursor = 'crosshair';\n",
       "        break;\n",
       "    case 3:\n",
       "        cursor = 'move';\n",
       "        break;\n",
       "    }\n",
       "    fig.rubberband_canvas.style.cursor = cursor;\n",
       "}\n",
       "\n",
       "mpl.figure.prototype.handle_message = function(fig, msg) {\n",
       "    fig.message.textContent = msg['message'];\n",
       "}\n",
       "\n",
       "mpl.figure.prototype.handle_draw = function(fig, msg) {\n",
       "    // Request the server to send over a new figure.\n",
       "    fig.send_draw_message();\n",
       "}\n",
       "\n",
       "mpl.figure.prototype.handle_image_mode = function(fig, msg) {\n",
       "    fig.image_mode = msg['mode'];\n",
       "}\n",
       "\n",
       "mpl.figure.prototype.updated_canvas_event = function() {\n",
       "    // Called whenever the canvas gets updated.\n",
       "    this.send_message(\"ack\", {});\n",
       "}\n",
       "\n",
       "// A function to construct a web socket function for onmessage handling.\n",
       "// Called in the figure constructor.\n",
       "mpl.figure.prototype._make_on_message_function = function(fig) {\n",
       "    return function socket_on_message(evt) {\n",
       "        if (evt.data instanceof Blob) {\n",
       "            /* FIXME: We get \"Resource interpreted as Image but\n",
       "             * transferred with MIME type text/plain:\" errors on\n",
       "             * Chrome.  But how to set the MIME type?  It doesn't seem\n",
       "             * to be part of the websocket stream */\n",
       "            evt.data.type = \"image/png\";\n",
       "\n",
       "            /* Free the memory for the previous frames */\n",
       "            if (fig.imageObj.src) {\n",
       "                (window.URL || window.webkitURL).revokeObjectURL(\n",
       "                    fig.imageObj.src);\n",
       "            }\n",
       "\n",
       "            fig.imageObj.src = (window.URL || window.webkitURL).createObjectURL(\n",
       "                evt.data);\n",
       "            fig.updated_canvas_event();\n",
       "            fig.waiting = false;\n",
       "            return;\n",
       "        }\n",
       "        else if (typeof evt.data === 'string' && evt.data.slice(0, 21) == \"data:image/png;base64\") {\n",
       "            fig.imageObj.src = evt.data;\n",
       "            fig.updated_canvas_event();\n",
       "            fig.waiting = false;\n",
       "            return;\n",
       "        }\n",
       "\n",
       "        var msg = JSON.parse(evt.data);\n",
       "        var msg_type = msg['type'];\n",
       "\n",
       "        // Call the  \"handle_{type}\" callback, which takes\n",
       "        // the figure and JSON message as its only arguments.\n",
       "        try {\n",
       "            var callback = fig[\"handle_\" + msg_type];\n",
       "        } catch (e) {\n",
       "            console.log(\"No handler for the '\" + msg_type + \"' message type: \", msg);\n",
       "            return;\n",
       "        }\n",
       "\n",
       "        if (callback) {\n",
       "            try {\n",
       "                // console.log(\"Handling '\" + msg_type + \"' message: \", msg);\n",
       "                callback(fig, msg);\n",
       "            } catch (e) {\n",
       "                console.log(\"Exception inside the 'handler_\" + msg_type + \"' callback:\", e, e.stack, msg);\n",
       "            }\n",
       "        }\n",
       "    };\n",
       "}\n",
       "\n",
       "// from http://stackoverflow.com/questions/1114465/getting-mouse-location-in-canvas\n",
       "mpl.findpos = function(e) {\n",
       "    //this section is from http://www.quirksmode.org/js/events_properties.html\n",
       "    var targ;\n",
       "    if (!e)\n",
       "        e = window.event;\n",
       "    if (e.target)\n",
       "        targ = e.target;\n",
       "    else if (e.srcElement)\n",
       "        targ = e.srcElement;\n",
       "    if (targ.nodeType == 3) // defeat Safari bug\n",
       "        targ = targ.parentNode;\n",
       "\n",
       "    // jQuery normalizes the pageX and pageY\n",
       "    // pageX,Y are the mouse positions relative to the document\n",
       "    // offset() returns the position of the element relative to the document\n",
       "    var x = e.pageX - $(targ).offset().left;\n",
       "    var y = e.pageY - $(targ).offset().top;\n",
       "\n",
       "    return {\"x\": x, \"y\": y};\n",
       "};\n",
       "\n",
       "/*\n",
       " * return a copy of an object with only non-object keys\n",
       " * we need this to avoid circular references\n",
       " * http://stackoverflow.com/a/24161582/3208463\n",
       " */\n",
       "function simpleKeys (original) {\n",
       "  return Object.keys(original).reduce(function (obj, key) {\n",
       "    if (typeof original[key] !== 'object')\n",
       "        obj[key] = original[key]\n",
       "    return obj;\n",
       "  }, {});\n",
       "}\n",
       "\n",
       "mpl.figure.prototype.mouse_event = function(event, name) {\n",
       "    var canvas_pos = mpl.findpos(event)\n",
       "\n",
       "    if (name === 'button_press')\n",
       "    {\n",
       "        this.canvas.focus();\n",
       "        this.canvas_div.focus();\n",
       "    }\n",
       "\n",
       "    var x = canvas_pos.x * mpl.ratio;\n",
       "    var y = canvas_pos.y * mpl.ratio;\n",
       "\n",
       "    this.send_message(name, {x: x, y: y, button: event.button,\n",
       "                             step: event.step,\n",
       "                             guiEvent: simpleKeys(event)});\n",
       "\n",
       "    /* This prevents the web browser from automatically changing to\n",
       "     * the text insertion cursor when the button is pressed.  We want\n",
       "     * to control all of the cursor setting manually through the\n",
       "     * 'cursor' event from matplotlib */\n",
       "    event.preventDefault();\n",
       "    return false;\n",
       "}\n",
       "\n",
       "mpl.figure.prototype._key_event_extra = function(event, name) {\n",
       "    // Handle any extra behaviour associated with a key event\n",
       "}\n",
       "\n",
       "mpl.figure.prototype.key_event = function(event, name) {\n",
       "\n",
       "    // Prevent repeat events\n",
       "    if (name == 'key_press')\n",
       "    {\n",
       "        if (event.which === this._key)\n",
       "            return;\n",
       "        else\n",
       "            this._key = event.which;\n",
       "    }\n",
       "    if (name == 'key_release')\n",
       "        this._key = null;\n",
       "\n",
       "    var value = '';\n",
       "    if (event.ctrlKey && event.which != 17)\n",
       "        value += \"ctrl+\";\n",
       "    if (event.altKey && event.which != 18)\n",
       "        value += \"alt+\";\n",
       "    if (event.shiftKey && event.which != 16)\n",
       "        value += \"shift+\";\n",
       "\n",
       "    value += 'k';\n",
       "    value += event.which.toString();\n",
       "\n",
       "    this._key_event_extra(event, name);\n",
       "\n",
       "    this.send_message(name, {key: value,\n",
       "                             guiEvent: simpleKeys(event)});\n",
       "    return false;\n",
       "}\n",
       "\n",
       "mpl.figure.prototype.toolbar_button_onclick = function(name) {\n",
       "    if (name == 'download') {\n",
       "        this.handle_save(this, null);\n",
       "    } else {\n",
       "        this.send_message(\"toolbar_button\", {name: name});\n",
       "    }\n",
       "};\n",
       "\n",
       "mpl.figure.prototype.toolbar_button_onmouseover = function(tooltip) {\n",
       "    this.message.textContent = tooltip;\n",
       "};\n",
       "mpl.toolbar_items = [[\"Home\", \"Reset original view\", \"fa fa-home icon-home\", \"home\"], [\"Back\", \"Back to  previous view\", \"fa fa-arrow-left icon-arrow-left\", \"back\"], [\"Forward\", \"Forward to next view\", \"fa fa-arrow-right icon-arrow-right\", \"forward\"], [\"\", \"\", \"\", \"\"], [\"Pan\", \"Pan axes with left mouse, zoom with right\", \"fa fa-arrows icon-move\", \"pan\"], [\"Zoom\", \"Zoom to rectangle\", \"fa fa-square-o icon-check-empty\", \"zoom\"], [\"\", \"\", \"\", \"\"], [\"Download\", \"Download plot\", \"fa fa-floppy-o icon-save\", \"download\"]];\n",
       "\n",
       "mpl.extensions = [\"eps\", \"jpeg\", \"pdf\", \"png\", \"ps\", \"raw\", \"svg\", \"tif\"];\n",
       "\n",
       "mpl.default_extension = \"png\";var comm_websocket_adapter = function(comm) {\n",
       "    // Create a \"websocket\"-like object which calls the given IPython comm\n",
       "    // object with the appropriate methods. Currently this is a non binary\n",
       "    // socket, so there is still some room for performance tuning.\n",
       "    var ws = {};\n",
       "\n",
       "    ws.close = function() {\n",
       "        comm.close()\n",
       "    };\n",
       "    ws.send = function(m) {\n",
       "        //console.log('sending', m);\n",
       "        comm.send(m);\n",
       "    };\n",
       "    // Register the callback with on_msg.\n",
       "    comm.on_msg(function(msg) {\n",
       "        //console.log('receiving', msg['content']['data'], msg);\n",
       "        // Pass the mpl event to the overriden (by mpl) onmessage function.\n",
       "        ws.onmessage(msg['content']['data'])\n",
       "    });\n",
       "    return ws;\n",
       "}\n",
       "\n",
       "mpl.mpl_figure_comm = function(comm, msg) {\n",
       "    // This is the function which gets called when the mpl process\n",
       "    // starts-up an IPython Comm through the \"matplotlib\" channel.\n",
       "\n",
       "    var id = msg.content.data.id;\n",
       "    // Get hold of the div created by the display call when the Comm\n",
       "    // socket was opened in Python.\n",
       "    var element = $(\"#\" + id);\n",
       "    var ws_proxy = comm_websocket_adapter(comm)\n",
       "\n",
       "    function ondownload(figure, format) {\n",
       "        window.open(figure.imageObj.src);\n",
       "    }\n",
       "\n",
       "    var fig = new mpl.figure(id, ws_proxy,\n",
       "                           ondownload,\n",
       "                           element.get(0));\n",
       "\n",
       "    // Call onopen now - mpl needs it, as it is assuming we've passed it a real\n",
       "    // web socket which is closed, not our websocket->open comm proxy.\n",
       "    ws_proxy.onopen();\n",
       "\n",
       "    fig.parent_element = element.get(0);\n",
       "    fig.cell_info = mpl.find_output_cell(\"<div id='\" + id + \"'></div>\");\n",
       "    if (!fig.cell_info) {\n",
       "        console.error(\"Failed to find cell for figure\", id, fig);\n",
       "        return;\n",
       "    }\n",
       "\n",
       "    var output_index = fig.cell_info[2]\n",
       "    var cell = fig.cell_info[0];\n",
       "\n",
       "};\n",
       "\n",
       "mpl.figure.prototype.handle_close = function(fig, msg) {\n",
       "    var width = fig.canvas.width/mpl.ratio\n",
       "    fig.root.unbind('remove')\n",
       "\n",
       "    // Update the output cell to use the data from the current canvas.\n",
       "    fig.push_to_output();\n",
       "    var dataURL = fig.canvas.toDataURL();\n",
       "    // Re-enable the keyboard manager in IPython - without this line, in FF,\n",
       "    // the notebook keyboard shortcuts fail.\n",
       "    IPython.keyboard_manager.enable()\n",
       "    $(fig.parent_element).html('<img src=\"' + dataURL + '\" width=\"' + width + '\">');\n",
       "    fig.close_ws(fig, msg);\n",
       "}\n",
       "\n",
       "mpl.figure.prototype.close_ws = function(fig, msg){\n",
       "    fig.send_message('closing', msg);\n",
       "    // fig.ws.close()\n",
       "}\n",
       "\n",
       "mpl.figure.prototype.push_to_output = function(remove_interactive) {\n",
       "    // Turn the data on the canvas into data in the output cell.\n",
       "    var width = this.canvas.width/mpl.ratio\n",
       "    var dataURL = this.canvas.toDataURL();\n",
       "    this.cell_info[1]['text/html'] = '<img src=\"' + dataURL + '\" width=\"' + width + '\">';\n",
       "}\n",
       "\n",
       "mpl.figure.prototype.updated_canvas_event = function() {\n",
       "    // Tell IPython that the notebook contents must change.\n",
       "    IPython.notebook.set_dirty(true);\n",
       "    this.send_message(\"ack\", {});\n",
       "    var fig = this;\n",
       "    // Wait a second, then push the new image to the DOM so\n",
       "    // that it is saved nicely (might be nice to debounce this).\n",
       "    setTimeout(function () { fig.push_to_output() }, 1000);\n",
       "}\n",
       "\n",
       "mpl.figure.prototype._init_toolbar = function() {\n",
       "    var fig = this;\n",
       "\n",
       "    var nav_element = $('<div/>')\n",
       "    nav_element.attr('style', 'width: 100%');\n",
       "    this.root.append(nav_element);\n",
       "\n",
       "    // Define a callback function for later on.\n",
       "    function toolbar_event(event) {\n",
       "        return fig.toolbar_button_onclick(event['data']);\n",
       "    }\n",
       "    function toolbar_mouse_event(event) {\n",
       "        return fig.toolbar_button_onmouseover(event['data']);\n",
       "    }\n",
       "\n",
       "    for(var toolbar_ind in mpl.toolbar_items){\n",
       "        var name = mpl.toolbar_items[toolbar_ind][0];\n",
       "        var tooltip = mpl.toolbar_items[toolbar_ind][1];\n",
       "        var image = mpl.toolbar_items[toolbar_ind][2];\n",
       "        var method_name = mpl.toolbar_items[toolbar_ind][3];\n",
       "\n",
       "        if (!name) { continue; };\n",
       "\n",
       "        var button = $('<button class=\"btn btn-default\" href=\"#\" title=\"' + name + '\"><i class=\"fa ' + image + ' fa-lg\"></i></button>');\n",
       "        button.click(method_name, toolbar_event);\n",
       "        button.mouseover(tooltip, toolbar_mouse_event);\n",
       "        nav_element.append(button);\n",
       "    }\n",
       "\n",
       "    // Add the status bar.\n",
       "    var status_bar = $('<span class=\"mpl-message\" style=\"text-align:right; float: right;\"/>');\n",
       "    nav_element.append(status_bar);\n",
       "    this.message = status_bar[0];\n",
       "\n",
       "    // Add the close button to the window.\n",
       "    var buttongrp = $('<div class=\"btn-group inline pull-right\"></div>');\n",
       "    var button = $('<button class=\"btn btn-mini btn-primary\" href=\"#\" title=\"Stop Interaction\"><i class=\"fa fa-power-off icon-remove icon-large\"></i></button>');\n",
       "    button.click(function (evt) { fig.handle_close(fig, {}); } );\n",
       "    button.mouseover('Stop Interaction', toolbar_mouse_event);\n",
       "    buttongrp.append(button);\n",
       "    var titlebar = this.root.find($('.ui-dialog-titlebar'));\n",
       "    titlebar.prepend(buttongrp);\n",
       "}\n",
       "\n",
       "mpl.figure.prototype._root_extra_style = function(el){\n",
       "    var fig = this\n",
       "    el.on(\"remove\", function(){\n",
       "\tfig.close_ws(fig, {});\n",
       "    });\n",
       "}\n",
       "\n",
       "mpl.figure.prototype._canvas_extra_style = function(el){\n",
       "    // this is important to make the div 'focusable\n",
       "    el.attr('tabindex', 0)\n",
       "    // reach out to IPython and tell the keyboard manager to turn it's self\n",
       "    // off when our div gets focus\n",
       "\n",
       "    // location in version 3\n",
       "    if (IPython.notebook.keyboard_manager) {\n",
       "        IPython.notebook.keyboard_manager.register_events(el);\n",
       "    }\n",
       "    else {\n",
       "        // location in version 2\n",
       "        IPython.keyboard_manager.register_events(el);\n",
       "    }\n",
       "\n",
       "}\n",
       "\n",
       "mpl.figure.prototype._key_event_extra = function(event, name) {\n",
       "    var manager = IPython.notebook.keyboard_manager;\n",
       "    if (!manager)\n",
       "        manager = IPython.keyboard_manager;\n",
       "\n",
       "    // Check for shift+enter\n",
       "    if (event.shiftKey && event.which == 13) {\n",
       "        this.canvas_div.blur();\n",
       "        event.shiftKey = false;\n",
       "        // Send a \"J\" for go to next cell\n",
       "        event.which = 74;\n",
       "        event.keyCode = 74;\n",
       "        manager.command_mode();\n",
       "        manager.handle_keydown(event);\n",
       "    }\n",
       "}\n",
       "\n",
       "mpl.figure.prototype.handle_save = function(fig, msg) {\n",
       "    fig.ondownload(fig, null);\n",
       "}\n",
       "\n",
       "\n",
       "mpl.find_output_cell = function(html_output) {\n",
       "    // Return the cell and output element which can be found *uniquely* in the notebook.\n",
       "    // Note - this is a bit hacky, but it is done because the \"notebook_saving.Notebook\"\n",
       "    // IPython event is triggered only after the cells have been serialised, which for\n",
       "    // our purposes (turning an active figure into a static one), is too late.\n",
       "    var cells = IPython.notebook.get_cells();\n",
       "    var ncells = cells.length;\n",
       "    for (var i=0; i<ncells; i++) {\n",
       "        var cell = cells[i];\n",
       "        if (cell.cell_type === 'code'){\n",
       "            for (var j=0; j<cell.output_area.outputs.length; j++) {\n",
       "                var data = cell.output_area.outputs[j];\n",
       "                if (data.data) {\n",
       "                    // IPython >= 3 moved mimebundle to data attribute of output\n",
       "                    data = data.data;\n",
       "                }\n",
       "                if (data['text/html'] == html_output) {\n",
       "                    return [cell, data, j];\n",
       "                }\n",
       "            }\n",
       "        }\n",
       "    }\n",
       "}\n",
       "\n",
       "// Register the function which deals with the matplotlib target/channel.\n",
       "// The kernel may be null if the page has been refreshed.\n",
       "if (IPython.notebook.kernel != null) {\n",
       "    IPython.notebook.kernel.comm_manager.register_target('matplotlib', mpl.mpl_figure_comm);\n",
       "}\n"
      ],
      "text/plain": [
       "<IPython.core.display.Javascript object>"
      ]
     },
     "metadata": {},
     "output_type": "display_data"
    },
    {
     "data": {
      "text/html": [
       "<img src=\"data:image/png;base64,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\" width=\"800\">"
      ],
      "text/plain": [
       "<IPython.core.display.HTML object>"
      ]
     },
     "metadata": {},
     "output_type": "display_data"
    },
    {
     "name": "stdout",
     "output_type": "stream",
     "text": [
      "This cell produces an animation of the first principal components that we learn for class 0.\n",
      "Warning: This plotting is sloooow.\n"
     ]
    },
    {
     "data": {
      "text/html": [
       "\n",
       "        <script>\n",
       "            function code_toggle_3565655968601406486() {\n",
       "                $('div.cell.code_cell.rendered.selected').find('div.input').toggle();\n",
       "            }\n",
       "\n",
       "            \n",
       "        </script>\n",
       "\n",
       "        <a href=\"javascript:code_toggle_3565655968601406486()\">Show/hide cell</a>\n",
       "    "
      ],
      "text/plain": [
       "<IPython.core.display.HTML object>"
      ]
     },
     "execution_count": 22,
     "metadata": {},
     "output_type": "execute_result"
    }
   ],
   "source": [
    "%matplotlib nbagg\n",
    "\n",
    "th_class = 0\n",
    "\n",
    "ts_length = data['X_train'].shape[1]\n",
    "T = cpab(tess_size=[10], return_tf_tensors=False, zero_boundary=True)\n",
    "\n",
    "pca = PCA(n_components=1)\n",
    "pca.fit(sigmas[th_class])\n",
    "data_point_here_ix = np.where(data['y_train'] == th_class)[0][0]\n",
    "data_point_here = np.expand_dims(np.expand_dims(data['X_train'][data_point_here_ix, :], 0), 2)\n",
    "pc = pca.components_\n",
    "eigval = pca.singular_values_\n",
    "fig, ax = plt.subplots(1, figsize = (8, 3))\n",
    "ax.plot(data_point_here.flatten(), label = 'source', color='k')\n",
    "ax.set_title(label='Variations along the first PC, class %s' %th_class)\n",
    "\n",
    "plots = []\n",
    "cm_subsection = np.linspace(0, 1, 20)\n",
    "colors = [plt.cm.RdBu(x) for x in cm_subsection ]\n",
    "\n",
    "for i, factor in enumerate(range(0, 20)):\n",
    "    theta = pc*math.sin(((factor/10)*math.pi))\n",
    "    theta = theta.reshape((1, -1))\n",
    "    new_point = T.transform_data(data_point_here, theta)\n",
    "    plots.append(ax.plot(new_point.flatten(), label = 'source', animated= True, color=colors[i]))\n",
    "\n",
    "ani = animation.ArtistAnimation(fig, plots, interval=100, blit=True,\n",
    "                                repeat_delay=100)\n",
    "writer = FFMpegWriter(fps=15, metadata=dict(artist='Me'), bitrate=1800)\n",
    "ani.save('test.mp4', writer=writer)\n",
    "\n",
    "print('''This cell produces an animation of the first principal components that we learn for class 0.\n",
    "Warning: This plotting is sloooow.''')\n",
    "hide_toggle()"
   ]
  },
  {
   "cell_type": "code",
   "execution_count": null,
   "metadata": {},
   "outputs": [],
   "source": [
    "# PCA plot, delete and replace by video\n",
    "th_class = 0\n",
    "ts_length = data['X_train'].shape[1]\n",
    "T = cpab(tess_size=[10], return_tf_tensors=False, zero_boundary=True)\n",
    "\n",
    "cm_subsection = np.linspace(0, 1, 4)\n",
    "colors = [plt.cm.RdBu(x) for x in cm_subsection ]\n",
    "\n",
    "pca = PCA(n_components=1)\n",
    "pca.fit(sigmas[th_class])\n",
    "data_point_here_ix = np.where(data['y_train'] == th_class)[0][0]\n",
    "data_point_here = np.expand_dims(np.expand_dims(data['X_train'][data_point_here_ix, :], 0), 2)\n",
    "pc = pca.components_\n",
    "eigval = pca.singular_values_[0]\n",
    "fig, ax = plt.subplots(1, figsize = (15, 5))\n",
    "ax.set_title(label='Variations along the first PC, class %s' %th_class)\n",
    "\n",
    "for i, factor in enumerate([-3,-1.5,1.5,3]):\n",
    "    theta = pc*factor\n",
    "    theta = theta.reshape((1, -1))\n",
    "    new_point = T.transform_data(data_point_here, theta)\n",
    "    ax.plot(new_point.flatten(), color=colors[i])\n",
    "    \n",
    "ax.plot(data_point_here.flatten(), label = 'source', color='k')"
   ]
  },
  {
   "cell_type": "code",
   "execution_count": 10,
   "metadata": {},
   "outputs": [
    {
     "data": {
      "text/html": [
       "\n",
       "<video width=\"320\" height=\"240\" controls>\n",
       "  <source src=\"test.mp4\" type=\"video/mp4\">\n",
       "</video>\n"
      ],
      "text/plain": [
       "<IPython.core.display.HTML object>"
      ]
     },
     "execution_count": 10,
     "metadata": {},
     "output_type": "execute_result"
    }
   ],
   "source": [
    "HTML(\"\"\"\n",
    "<video width=\"320\" height=\"240\" controls>\n",
    "  <source src=\"test.mp4\" type=\"video/mp4\">\n",
    "</video>\n",
    "\"\"\")"
   ]
  },
  {
   "cell_type": "code",
   "execution_count": 89,
   "metadata": {},
   "outputs": [
    {
     "data": {
      "image/png": "[encoded data removed]",
      "text/plain": [
       "<matplotlib.figure.Figure at 0x1a3f85fc50>"
      ]
     },
     "metadata": {},
     "output_type": "display_data"
    }
   ],
   "source": [
    "# Example augmentation for paper (delete??!)\n",
    "%matplotlib inline\n",
    "fig, ax = plt.subplots(1, figsize = (15, 5))\n",
    "ax.plot(data['X_train'][1, :].flatten(), label = 'Time series $x$', c='C0', linewidth=3)\n",
    "#ax.plot(X_train_aug[len(data['X_train']) + 29,:], label = 'augmented datapoint')\n",
    "ax.plot(X_train_aug[len(data['X_train']) + 51,:], label = r'Augmented time series $T^{\\theta_s}(x)$', c='C0', alpha=0.3)\n",
    "ax.plot(X_train_aug[len(data['X_train']) + 63,:],  c='C0', alpha=0.3)\n",
    "#ax.plot(X_train_aug[len(data['X_train']) + 64,:], label = 'augmented datapoint',  c='b', alpha=0.5)\n",
    "ax.plot(X_train_aug[len(data['X_train']) + 149,:],  c='C0', alpha=0.3)\n",
    "ax.plot(X_train_aug[len(data['X_train']) + 244,:],  c='C0', alpha=0.3)\n",
    "ax.plot(X_train_aug[len(data['X_train']) + 327,:],  c='C0', alpha=0.3)\n",
    "\n",
    "plt.legend(fontsize=15);\n",
    "plt.savefig('augmentations.pdf',format='pdf');"
   ]
  },
  {
   "cell_type": "markdown",
   "metadata": {},
   "source": [
    "# 3. Train a 1-nearest-neighbor classifier\n",
    "\n",
    "After we augment the data set in the way described above, we use it in a 1-nearest-neighbor classifier. We than compare classification performance with and without data augmentation."
   ]
  },
  {
   "cell_type": "code",
   "execution_count": 50,
   "metadata": {},
   "outputs": [
    {
     "name": "stdout",
     "output_type": "stream",
     "text": [
      "This cell contains the code for the 1-nearest-neighbour classifier.\n"
     ]
    },
    {
     "data": {
      "text/html": [
       "\n",
       "        <script>\n",
       "            function code_toggle_8919458155268754353() {\n",
       "                $('div.cell.code_cell.rendered.selected').find('div.input').toggle();\n",
       "            }\n",
       "\n",
       "            \n",
       "        </script>\n",
       "\n",
       "        <a href=\"javascript:code_toggle_8919458155268754353()\">Show/hide cell</a>\n",
       "    "
      ],
      "text/plain": [
       "<IPython.core.display.HTML object>"
      ]
     },
     "execution_count": 50,
     "metadata": {},
     "output_type": "execute_result"
    }
   ],
   "source": [
    "def predict(X_train, X_test, y_train, y_test):\n",
    "    # Train 1NN classifier\n",
    "    neigh = KNeighborsClassifier(n_neighbors=1)\n",
    "    neigh.fit(X_train, y_train)\n",
    "\n",
    "    # Classify\n",
    "    y_pred = neigh.predict(X_test)\n",
    "\n",
    "    acc = accuracy_score(y_test, y_pred)\n",
    "    err_rate = 1 - acc\n",
    "    return err_rate\n",
    "\n",
    "print('This cell contains the code for the 1-nearest-neighbour classifier.')\n",
    "hide_toggle()"
   ]
  },
  {
   "cell_type": "markdown",
   "metadata": {},
   "source": [
    "### Experiment:\n",
    "Compare 1-nearest-neighbor classifier with and without data augmentation."
   ]
  },
  {
   "cell_type": "code",
   "execution_count": 62,
   "metadata": {
    "scrolled": true
   },
   "outputs": [],
   "source": [
    "err_rate_non_augmented = predict(data['X_train'], data['X_test'], data['y_train'], data['y_test'])"
   ]
  },
  {
   "cell_type": "code",
   "execution_count": 57,
   "metadata": {
    "scrolled": true
   },
   "outputs": [],
   "source": [
    "err_rate_augmented = predict(X_train_aug, data['X_test'], y_train_aug.flatten(), data['y_test'])"
   ]
  },
  {
   "cell_type": "code",
   "execution_count": 61,
   "metadata": {},
   "outputs": [
    {
     "name": "stdout",
     "output_type": "stream",
     "text": [
      "The learned data augmentation scheme yielded an error rate improvement from 0.35 to 0.25. That's a relative improvement by 28.57 percent.\n"
     ]
    }
   ],
   "source": [
    "relative_improvement = np.round(((err_rate_non_augmented - err_rate_augmented)/err_rate_non_augmented)*100, 2)\n",
    "print(\"\"\"The learned data augmentation scheme yielded an error rate improvement from %s to %s. That's a relative improvement by %s percent.\"\"\" \n",
    "      %(err_rate_non_augmented, err_rate_augmented, relative_improvement))"
   ]
  }
 ],
 "metadata": {
  "anaconda-cloud": {},
  "kernelspec": {
   "display_name": "Python 3",
   "language": "python",
   "name": "python3"
  },
  "language_info": {
   "codemirror_mode": {
    "name": "ipython",
    "version": 3
   },
   "file_extension": ".py",
   "mimetype": "text/x-python",
   "name": "python",
   "nbconvert_exporter": "python",
   "pygments_lexer": "ipython3",
   "version": "3.7.3"
  }
 },
 "nbformat": 4,
 "nbformat_minor": 1
}
